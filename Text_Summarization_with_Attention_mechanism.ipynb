{
  "nbformat": 4,
  "nbformat_minor": 0,
  "metadata": {
    "colab": {
      "name": "Text Summarization with Attention mechanism.ipynb",
      "provenance": [],
      "collapsed_sections": [
        "AZxqaA3p-hhZ",
        "-cNrgJX8_l9s",
        "pBnggByrAdBY",
        "ZaL-fUbKDpSs",
        "LcJfPB1-VuIY",
        "VG6KwMf3Xv8S",
        "v_-_l2yrhkgl",
        "w3gTt66Tm1lo"
      ],
      "toc_visible": true,
      "include_colab_link": true
    },
    "kernelspec": {
      "name": "python3",
      "display_name": "Python 3"
    },
    "language_info": {
      "name": "python"
    },
    "accelerator": "GPU"
  },
  "cells": [
    {
      "cell_type": "markdown",
      "metadata": {
        "id": "view-in-github",
        "colab_type": "text"
      },
      "source": [
        "<a href=\"https://colab.research.google.com/github/CamelGoong/NLP/blob/main/Text_Summarization_with_Attention_mechanism.ipynb\" target=\"_parent\"><img src=\"https://colab.research.google.com/assets/colab-badge.svg\" alt=\"Open In Colab\"/></a>"
      ]
    },
    {
      "cell_type": "markdown",
      "metadata": {
        "id": "AZxqaA3p-hhZ"
      },
      "source": [
        "# 어텐션을 이용한 텍스트요약"
      ]
    },
    {
      "cell_type": "markdown",
      "metadata": {
        "id": "z8RdDXdu-o6b"
      },
      "source": [
        "1) 추출적 요약: 원문에서 중요한 핵심 문장 또는 단어구를 몇 개 뽑아서 이들로 구성된 요약문을 만드는 방법입니다. 그렇기 때문에 추출적 요약의 결과로 나온 요약문의 문장이나 단어구들은 전부 원문에 있는 문장들입니다."
      ]
    },
    {
      "cell_type": "markdown",
      "metadata": {
        "id": "w53ROg1v_XX2"
      },
      "source": [
        "2)추상적 요약: 원문에 없던 문장이라도 핵심 문맥을 반영한 새로운 문장을 생성해서 원문을 요약하는 방법입니다. 마치 사람이 요약하는 것 같은 방식인데, 당연히 추출적 요약보다는 난이도가 높습니다. 이 방법은 주로 인공 신경망을 사용하며 대표적인 모델로 seq2seq가 있습니다. 이 방법의 단점이라면 seq2seq와 같은 인공 신경망들은 기본적으로 지도 학습이라는 점입니다. 다시 말해 추상적 요약을 인공 신경망으로 훈련하기 위해서는 '원문' 뿐만 아니라 '실제 요약문'이라는 레이블 데이터가 있어야 합니다. 그렇기 때문에 데이터를 구성하는 것 자체가 하나의 부담"
      ]
    },
    {
      "cell_type": "markdown",
      "metadata": {
        "id": "-cNrgJX8_l9s"
      },
      "source": [
        "# <추상적 요약>"
      ]
    },
    {
      "cell_type": "code",
      "metadata": {
        "colab": {
          "base_uri": "https://localhost:8080/"
        },
        "id": "cbdCPAotPWqd",
        "outputId": "51c7af12-fb3d-452e-8f30-b8b4d7503df2"
      },
      "source": [
        "from google.colab import drive\n",
        "drive.mount('/content/drive')"
      ],
      "execution_count": null,
      "outputs": [
        {
          "output_type": "stream",
          "name": "stdout",
          "text": [
            "Mounted at /content/drive\n"
          ]
        }
      ]
    },
    {
      "cell_type": "code",
      "metadata": {
        "colab": {
          "base_uri": "https://localhost:8080/"
        },
        "id": "evRu6-57Kpqd",
        "outputId": "1a28c445-8413-40b7-d8fa-8d32f1d5d79e"
      },
      "source": [
        "import tensorflow as tf\n",
        "import keras\n",
        "import numpy as np\n",
        "#!pip install numpy==1.19.3\n",
        "#!pip install keras==2.3.1\n",
        "#!pip install tensorflow==2.0.0"
      ],
      "execution_count": null,
      "outputs": [
        {
          "output_type": "stream",
          "name": "stderr",
          "text": [
            "Using TensorFlow backend.\n"
          ]
        }
      ]
    },
    {
      "cell_type": "code",
      "metadata": {
        "colab": {
          "base_uri": "https://localhost:8080/"
        },
        "id": "wUb7mbaGKI_u",
        "outputId": "46ff56f4-7545-46b3-832d-18f0082c805e"
      },
      "source": [
        "print(np.version.version)\n",
        "print(keras.__version__)\n",
        "print(tf.__version__)"
      ],
      "execution_count": null,
      "outputs": [
        {
          "output_type": "stream",
          "name": "stdout",
          "text": [
            "1.19.3\n",
            "2.3.1\n",
            "2.0.0\n"
          ]
        }
      ]
    },
    {
      "cell_type": "code",
      "metadata": {
        "id": "0POWU8CT9snw"
      },
      "source": [
        "# 필요한 library import\n",
        "import pandas as pd\n",
        "import re\n",
        "import matplotlib.pyplot as plt\n",
        "from nltk.corpus import stopwords # 불용어 사전 imoport\n",
        "from bs4 import BeautifulSoup\n",
        "from tensorflow.keras.preprocessing.text import Tokenizer\n",
        "from tensorflow.keras.preprocessing.sequence import pad_sequences\n",
        "import urllib.request\n",
        "\n",
        "np.random.seed(seed = 0)"
      ],
      "execution_count": null,
      "outputs": []
    },
    {
      "cell_type": "markdown",
      "metadata": {
        "id": "pBnggByrAdBY"
      },
      "source": [
        "# 1) 데이터 로드하기"
      ]
    },
    {
      "cell_type": "code",
      "metadata": {
        "id": "Nu-YCMCGAK23"
      },
      "source": [
        "!unzip -qq \"/content/drive/MyDrive/NLP/Text_Summarization/archive.zip\""
      ],
      "execution_count": null,
      "outputs": []
    },
    {
      "cell_type": "code",
      "metadata": {
        "id": "1_GuQ-u_CmcO",
        "colab": {
          "base_uri": "https://localhost:8080/"
        },
        "outputId": "39e454dd-7780-420e-e1c8-c1656d6a5e0d"
      },
      "source": [
        "# Reviews.csv 파일을 데이터프레임으로 불러오기 / 단, 10만개만.\n",
        "data = pd.read_csv('/content/Reviews.csv', nrows = 100000)\n",
        "print('리뷰 전체 갯수:', len(data))"
      ],
      "execution_count": null,
      "outputs": [
        {
          "output_type": "stream",
          "name": "stdout",
          "text": [
            "리뷰 전체 갯수: 100000\n"
          ]
        }
      ]
    },
    {
      "cell_type": "code",
      "metadata": {
        "id": "7csPumfvDHqO",
        "colab": {
          "base_uri": "https://localhost:8080/",
          "height": 272
        },
        "outputId": "56ae3f49-cd82-441d-fedd-f3e4c6345da2"
      },
      "source": [
        "data.head()\n",
        "# 이중에서 필요한 열은 Summary와 Text열"
      ],
      "execution_count": null,
      "outputs": [
        {
          "output_type": "execute_result",
          "data": {
            "text/html": [
              "<div>\n",
              "<style scoped>\n",
              "    .dataframe tbody tr th:only-of-type {\n",
              "        vertical-align: middle;\n",
              "    }\n",
              "\n",
              "    .dataframe tbody tr th {\n",
              "        vertical-align: top;\n",
              "    }\n",
              "\n",
              "    .dataframe thead th {\n",
              "        text-align: right;\n",
              "    }\n",
              "</style>\n",
              "<table border=\"1\" class=\"dataframe\">\n",
              "  <thead>\n",
              "    <tr style=\"text-align: right;\">\n",
              "      <th></th>\n",
              "      <th>Id</th>\n",
              "      <th>ProductId</th>\n",
              "      <th>UserId</th>\n",
              "      <th>ProfileName</th>\n",
              "      <th>HelpfulnessNumerator</th>\n",
              "      <th>HelpfulnessDenominator</th>\n",
              "      <th>Score</th>\n",
              "      <th>Time</th>\n",
              "      <th>Summary</th>\n",
              "      <th>Text</th>\n",
              "    </tr>\n",
              "  </thead>\n",
              "  <tbody>\n",
              "    <tr>\n",
              "      <th>0</th>\n",
              "      <td>1</td>\n",
              "      <td>B001E4KFG0</td>\n",
              "      <td>A3SGXH7AUHU8GW</td>\n",
              "      <td>delmartian</td>\n",
              "      <td>1</td>\n",
              "      <td>1</td>\n",
              "      <td>5</td>\n",
              "      <td>1303862400</td>\n",
              "      <td>Good Quality Dog Food</td>\n",
              "      <td>I have bought several of the Vitality canned d...</td>\n",
              "    </tr>\n",
              "    <tr>\n",
              "      <th>1</th>\n",
              "      <td>2</td>\n",
              "      <td>B00813GRG4</td>\n",
              "      <td>A1D87F6ZCVE5NK</td>\n",
              "      <td>dll pa</td>\n",
              "      <td>0</td>\n",
              "      <td>0</td>\n",
              "      <td>1</td>\n",
              "      <td>1346976000</td>\n",
              "      <td>Not as Advertised</td>\n",
              "      <td>Product arrived labeled as Jumbo Salted Peanut...</td>\n",
              "    </tr>\n",
              "    <tr>\n",
              "      <th>2</th>\n",
              "      <td>3</td>\n",
              "      <td>B000LQOCH0</td>\n",
              "      <td>ABXLMWJIXXAIN</td>\n",
              "      <td>Natalia Corres \"Natalia Corres\"</td>\n",
              "      <td>1</td>\n",
              "      <td>1</td>\n",
              "      <td>4</td>\n",
              "      <td>1219017600</td>\n",
              "      <td>\"Delight\" says it all</td>\n",
              "      <td>This is a confection that has been around a fe...</td>\n",
              "    </tr>\n",
              "    <tr>\n",
              "      <th>3</th>\n",
              "      <td>4</td>\n",
              "      <td>B000UA0QIQ</td>\n",
              "      <td>A395BORC6FGVXV</td>\n",
              "      <td>Karl</td>\n",
              "      <td>3</td>\n",
              "      <td>3</td>\n",
              "      <td>2</td>\n",
              "      <td>1307923200</td>\n",
              "      <td>Cough Medicine</td>\n",
              "      <td>If you are looking for the secret ingredient i...</td>\n",
              "    </tr>\n",
              "    <tr>\n",
              "      <th>4</th>\n",
              "      <td>5</td>\n",
              "      <td>B006K2ZZ7K</td>\n",
              "      <td>A1UQRSCLF8GW1T</td>\n",
              "      <td>Michael D. Bigham \"M. Wassir\"</td>\n",
              "      <td>0</td>\n",
              "      <td>0</td>\n",
              "      <td>5</td>\n",
              "      <td>1350777600</td>\n",
              "      <td>Great taffy</td>\n",
              "      <td>Great taffy at a great price.  There was a wid...</td>\n",
              "    </tr>\n",
              "  </tbody>\n",
              "</table>\n",
              "</div>"
            ],
            "text/plain": [
              "   Id  ...                                               Text\n",
              "0   1  ...  I have bought several of the Vitality canned d...\n",
              "1   2  ...  Product arrived labeled as Jumbo Salted Peanut...\n",
              "2   3  ...  This is a confection that has been around a fe...\n",
              "3   4  ...  If you are looking for the secret ingredient i...\n",
              "4   5  ...  Great taffy at a great price.  There was a wid...\n",
              "\n",
              "[5 rows x 10 columns]"
            ]
          },
          "metadata": {},
          "execution_count": 7
        }
      ]
    },
    {
      "cell_type": "code",
      "metadata": {
        "id": "D6Gw-NjdDKMm",
        "colab": {
          "base_uri": "https://localhost:8080/",
          "height": 204
        },
        "outputId": "45ef36a0-2733-49cd-98ed-fcb871bf5812"
      },
      "source": [
        "# 필요한 열만 추출해서 다시 저장\n",
        "data = data[['Text', 'Summary']]\n",
        "data.head()"
      ],
      "execution_count": null,
      "outputs": [
        {
          "output_type": "execute_result",
          "data": {
            "text/html": [
              "<div>\n",
              "<style scoped>\n",
              "    .dataframe tbody tr th:only-of-type {\n",
              "        vertical-align: middle;\n",
              "    }\n",
              "\n",
              "    .dataframe tbody tr th {\n",
              "        vertical-align: top;\n",
              "    }\n",
              "\n",
              "    .dataframe thead th {\n",
              "        text-align: right;\n",
              "    }\n",
              "</style>\n",
              "<table border=\"1\" class=\"dataframe\">\n",
              "  <thead>\n",
              "    <tr style=\"text-align: right;\">\n",
              "      <th></th>\n",
              "      <th>Text</th>\n",
              "      <th>Summary</th>\n",
              "    </tr>\n",
              "  </thead>\n",
              "  <tbody>\n",
              "    <tr>\n",
              "      <th>0</th>\n",
              "      <td>I have bought several of the Vitality canned d...</td>\n",
              "      <td>Good Quality Dog Food</td>\n",
              "    </tr>\n",
              "    <tr>\n",
              "      <th>1</th>\n",
              "      <td>Product arrived labeled as Jumbo Salted Peanut...</td>\n",
              "      <td>Not as Advertised</td>\n",
              "    </tr>\n",
              "    <tr>\n",
              "      <th>2</th>\n",
              "      <td>This is a confection that has been around a fe...</td>\n",
              "      <td>\"Delight\" says it all</td>\n",
              "    </tr>\n",
              "    <tr>\n",
              "      <th>3</th>\n",
              "      <td>If you are looking for the secret ingredient i...</td>\n",
              "      <td>Cough Medicine</td>\n",
              "    </tr>\n",
              "    <tr>\n",
              "      <th>4</th>\n",
              "      <td>Great taffy at a great price.  There was a wid...</td>\n",
              "      <td>Great taffy</td>\n",
              "    </tr>\n",
              "  </tbody>\n",
              "</table>\n",
              "</div>"
            ],
            "text/plain": [
              "                                                Text                Summary\n",
              "0  I have bought several of the Vitality canned d...  Good Quality Dog Food\n",
              "1  Product arrived labeled as Jumbo Salted Peanut...      Not as Advertised\n",
              "2  This is a confection that has been around a fe...  \"Delight\" says it all\n",
              "3  If you are looking for the secret ingredient i...         Cough Medicine\n",
              "4  Great taffy at a great price.  There was a wid...            Great taffy"
            ]
          },
          "metadata": {},
          "execution_count": 8
        }
      ]
    },
    {
      "cell_type": "code",
      "metadata": {
        "id": "jwlN5e2BDem5",
        "colab": {
          "base_uri": "https://localhost:8080/",
          "height": 359
        },
        "outputId": "26b088d8-096c-4c96-8db2-4c432aea877d"
      },
      "source": [
        "# 랜덤으로 샘플 10개 추출\n",
        "data.sample(10)"
      ],
      "execution_count": null,
      "outputs": [
        {
          "output_type": "execute_result",
          "data": {
            "text/html": [
              "<div>\n",
              "<style scoped>\n",
              "    .dataframe tbody tr th:only-of-type {\n",
              "        vertical-align: middle;\n",
              "    }\n",
              "\n",
              "    .dataframe tbody tr th {\n",
              "        vertical-align: top;\n",
              "    }\n",
              "\n",
              "    .dataframe thead th {\n",
              "        text-align: right;\n",
              "    }\n",
              "</style>\n",
              "<table border=\"1\" class=\"dataframe\">\n",
              "  <thead>\n",
              "    <tr style=\"text-align: right;\">\n",
              "      <th></th>\n",
              "      <th>Text</th>\n",
              "      <th>Summary</th>\n",
              "    </tr>\n",
              "  </thead>\n",
              "  <tbody>\n",
              "    <tr>\n",
              "      <th>3582</th>\n",
              "      <td>I rarely eat anything but whole wheat pasta, b...</td>\n",
              "      <td>reminds me of Italy</td>\n",
              "    </tr>\n",
              "    <tr>\n",
              "      <th>60498</th>\n",
              "      <td>I absolutely love 5-hour ENERGY! I use it afte...</td>\n",
              "      <td>5-hour ENERGY Highly Recommend!</td>\n",
              "    </tr>\n",
              "    <tr>\n",
              "      <th>53227</th>\n",
              "      <td>this chocolate is a true treat to eat, perfect...</td>\n",
              "      <td>supreme chocolate</td>\n",
              "    </tr>\n",
              "    <tr>\n",
              "      <th>21333</th>\n",
              "      <td>Greenies are very muched loved as a tatsy Trea...</td>\n",
              "      <td>Excellent Teeth Cleaner</td>\n",
              "    </tr>\n",
              "    <tr>\n",
              "      <th>3885</th>\n",
              "      <td>I love these noodles.  They are really great f...</td>\n",
              "      <td>Great and good price!</td>\n",
              "    </tr>\n",
              "    <tr>\n",
              "      <th>51521</th>\n",
              "      <td>These are great! As a lover of all chips I'm s...</td>\n",
              "      <td>Delicious, just like Salt and Vinegar Chips!</td>\n",
              "    </tr>\n",
              "    <tr>\n",
              "      <th>84261</th>\n",
              "      <td>Like other customers I divide these into handf...</td>\n",
              "      <td>Great snack, great value</td>\n",
              "    </tr>\n",
              "    <tr>\n",
              "      <th>10685</th>\n",
              "      <td>I recommend this instead for the same price: &lt;...</td>\n",
              "      <td>It's ok, but certainly not worth the cost</td>\n",
              "    </tr>\n",
              "    <tr>\n",
              "      <th>59948</th>\n",
              "      <td>The noodles were all very broken, but the tast...</td>\n",
              "      <td>Knorr's beef noodles</td>\n",
              "    </tr>\n",
              "    <tr>\n",
              "      <th>41032</th>\n",
              "      <td>Despite claiming they use the \"finest ingredie...</td>\n",
              "      <td>HORRIBLE INGREDIENTS</td>\n",
              "    </tr>\n",
              "  </tbody>\n",
              "</table>\n",
              "</div>"
            ],
            "text/plain": [
              "                                                    Text                                       Summary\n",
              "3582   I rarely eat anything but whole wheat pasta, b...                           reminds me of Italy\n",
              "60498  I absolutely love 5-hour ENERGY! I use it afte...               5-hour ENERGY Highly Recommend!\n",
              "53227  this chocolate is a true treat to eat, perfect...                             supreme chocolate\n",
              "21333  Greenies are very muched loved as a tatsy Trea...                       Excellent Teeth Cleaner\n",
              "3885   I love these noodles.  They are really great f...                         Great and good price!\n",
              "51521  These are great! As a lover of all chips I'm s...  Delicious, just like Salt and Vinegar Chips!\n",
              "84261  Like other customers I divide these into handf...                      Great snack, great value\n",
              "10685  I recommend this instead for the same price: <...     It's ok, but certainly not worth the cost\n",
              "59948  The noodles were all very broken, but the tast...                          Knorr's beef noodles\n",
              "41032  Despite claiming they use the \"finest ingredie...                          HORRIBLE INGREDIENTS"
            ]
          },
          "metadata": {},
          "execution_count": 9
        }
      ]
    },
    {
      "cell_type": "markdown",
      "metadata": {
        "id": "ZaL-fUbKDpSs"
      },
      "source": [
        "#2) 데이터 정제하기"
      ]
    },
    {
      "cell_type": "markdown",
      "metadata": {
        "id": "SaMPIVWlE1p2"
      },
      "source": [
        "중복 데이터 및 null 데이터 제거"
      ]
    },
    {
      "cell_type": "code",
      "metadata": {
        "colab": {
          "base_uri": "https://localhost:8080/"
        },
        "id": "4WzncSZ6Dmam",
        "outputId": "a8720848-1378-4cf0-ecfb-693d4690e832"
      },
      "source": [
        "# 데이터에 중복 데이터가 있는지 확인.\n",
        "print(\"Text 열에서 중복을 배제한 유일한 샘플의 수: \", data['Text'].nunique())\n",
        "print('Summary 열에서 중복을 배제한 유일한 샘플의 수: ', data['Summary'].nunique())"
      ],
      "execution_count": null,
      "outputs": [
        {
          "output_type": "stream",
          "name": "stdout",
          "text": [
            "Text 열에서 중복을 배제한 유일한 샘플의 수:  88426\n",
            "Summary 열에서 중복을 배제한 유일한 샘플의 수:  72348\n"
          ]
        }
      ]
    },
    {
      "cell_type": "code",
      "metadata": {
        "colab": {
          "base_uri": "https://localhost:8080/"
        },
        "id": "YK0fVcQdD4FH",
        "outputId": "fd7f35b6-c362-4cb5-aa12-81480546c398"
      },
      "source": [
        "# Text 열에서 중복된 데이터 제거\n",
        "data.drop_duplicates(subset = ['Text'], inplace = True)\n",
        "print(\"전체 샘플 수: \", len(data))"
      ],
      "execution_count": null,
      "outputs": [
        {
          "output_type": "stream",
          "name": "stdout",
          "text": [
            "전체 샘플 수:  88426\n"
          ]
        }
      ]
    },
    {
      "cell_type": "code",
      "metadata": {
        "colab": {
          "base_uri": "https://localhost:8080/"
        },
        "id": "AUJzxtG-EU_m",
        "outputId": "a745ab1e-d15b-4c3c-b2e2-dcac8a4f9041"
      },
      "source": [
        "# data의 null값 확인\n",
        "print(data.isnull().sum())"
      ],
      "execution_count": null,
      "outputs": [
        {
          "output_type": "stream",
          "name": "stdout",
          "text": [
            "Text       0\n",
            "Summary    1\n",
            "dtype: int64\n"
          ]
        }
      ]
    },
    {
      "cell_type": "code",
      "metadata": {
        "colab": {
          "base_uri": "https://localhost:8080/"
        },
        "id": "I0vmnJz4Eaqt",
        "outputId": "8c83f21a-a216-49d8-f9d8-ac55fc7a9ebd"
      },
      "source": [
        "# data의 null값 제거\n",
        "data.dropna(axis = 0, inplace = True)\n",
        "print(\"전체 샘플 수: \", len(data))"
      ],
      "execution_count": null,
      "outputs": [
        {
          "output_type": "stream",
          "name": "stdout",
          "text": [
            "전체 샘플 수:  88425\n"
          ]
        }
      ]
    },
    {
      "cell_type": "markdown",
      "metadata": {
        "id": "CMYgSidkE4LS"
      },
      "source": [
        "샘플 내부를 전처리"
      ]
    },
    {
      "cell_type": "code",
      "metadata": {
        "id": "ZYDkMFGNEvti"
      },
      "source": [
        "# 동일한 의미를 가졌지만, 스펠링이 다른 단어들을 정규화하기 위한 사전 생성\n",
        "# 전처리 함수 내 사용\n",
        "contractions = {\"ain't\": \"is not\", \"aren't\": \"are not\",\"can't\": \"cannot\", \"'cause\": \"because\", \"could've\": \"could have\", \"couldn't\": \"could not\", \"didn't\": \"did not\",  \"doesn't\": \"does not\", \"don't\": \"do not\", \"hadn't\": \"had not\", \"hasn't\": \"has not\", \"haven't\": \"have not\", \"he'd\": \"he would\",\"he'll\": \"he will\", \"he's\": \"he is\", \"how'd\": \"how did\", \"how'd'y\": \"how do you\", \"how'll\": \"how will\", \"how's\": \"how is\", \"I'd\": \"I would\", \"I'd've\": \"I would have\", \"I'll\": \"I will\", \"I'll've\": \"I will have\",\"I'm\": \"I am\", \"I've\": \"I have\", \"i'd\": \"i would\", \"i'd've\": \"i would have\", \"i'll\": \"i will\",  \"i'll've\": \"i will have\",\"i'm\": \"i am\", \"i've\": \"i have\", \"isn't\": \"is not\", \"it'd\": \"it would\", \"it'd've\": \"it would have\", \"it'll\": \"it will\", \"it'll've\": \"it will have\",\"it's\": \"it is\", \"let's\": \"let us\", \"ma'am\": \"madam\", \"mayn't\": \"may not\", \"might've\": \"might have\",\"mightn't\": \"might not\",\"mightn't've\": \"might not have\", \"must've\": \"must have\", \"mustn't\": \"must not\", \"mustn't've\": \"must not have\", \"needn't\": \"need not\", \"needn't've\": \"need not have\",\"o'clock\": \"of the clock\", \"oughtn't\": \"ought not\", \"oughtn't've\": \"ought not have\", \"shan't\": \"shall not\", \"sha'n't\": \"shall not\", \"shan't've\": \"shall not have\", \"she'd\": \"she would\", \"she'd've\": \"she would have\", \"she'll\": \"she will\", \"she'll've\": \"she will have\", \"she's\": \"she is\", \"should've\": \"should have\", \"shouldn't\": \"should not\", \"shouldn't've\": \"should not have\", \"so've\": \"so have\",\"so's\": \"so as\", \"this's\": \"this is\",\"that'd\": \"that would\", \"that'd've\": \"that would have\", \"that's\": \"that is\", \"there'd\": \"there would\", \"there'd've\": \"there would have\", \"there's\": \"there is\", \"here's\": \"here is\",\"they'd\": \"they would\", \"they'd've\": \"they would have\", \"they'll\": \"they will\", \"they'll've\": \"they will have\", \"they're\": \"they are\", \"they've\": \"they have\", \"to've\": \"to have\", \"wasn't\": \"was not\", \"we'd\": \"we would\", \"we'd've\": \"we would have\", \"we'll\": \"we will\", \"we'll've\": \"we will have\", \"we're\": \"we are\", \"we've\": \"we have\", \"weren't\": \"were not\", \"what'll\": \"what will\", \"what'll've\": \"what will have\", \"what're\": \"what are\", \"what's\": \"what is\", \"what've\": \"what have\", \"when's\": \"when is\", \"when've\": \"when have\", \"where'd\": \"where did\", \"where's\": \"where is\", \"where've\": \"where have\", \"who'll\": \"who will\", \"who'll've\": \"who will have\", \"who's\": \"who is\", \"who've\": \"who have\", \"why's\": \"why is\", \"why've\": \"why have\", \"will've\": \"will have\", \"won't\": \"will not\", \"won't've\": \"will not have\", \"would've\": \"would have\", \"wouldn't\": \"would not\", \"wouldn't've\": \"would not have\", \"y'all\": \"you all\", \"y'all'd\": \"you all would\",\"y'all'd've\": \"you all would have\",\"y'all're\": \"you all are\",\"y'all've\": \"you all have\", \"you'd\": \"you would\", \"you'd've\": \"you would have\", \"you'll\": \"you will\", \"you'll've\": \"you will have\", \"you're\": \"you are\", \"you've\": \"you have\"}"
      ],
      "execution_count": null,
      "outputs": []
    },
    {
      "cell_type": "code",
      "metadata": {
        "colab": {
          "base_uri": "https://localhost:8080/"
        },
        "id": "Jf5VU-JVFwyE",
        "outputId": "068007d7-6d50-422a-8ea9-b334a7238949"
      },
      "source": [
        "# NLTK의 불용어\n",
        "import nltk\n",
        "nltk.download('stopwords')\n",
        "stop_words = set(stopwords.words('english')) # set은 데이터의 중복을 삭제해줌."
      ],
      "execution_count": null,
      "outputs": [
        {
          "output_type": "stream",
          "name": "stdout",
          "text": [
            "[nltk_data] Downloading package stopwords to /root/nltk_data...\n",
            "[nltk_data]   Unzipping corpora/stopwords.zip.\n"
          ]
        }
      ]
    },
    {
      "cell_type": "code",
      "metadata": {
        "colab": {
          "base_uri": "https://localhost:8080/"
        },
        "id": "nUZuDx6gHb4J",
        "outputId": "16ed8d06-6484-4ec9-eb03-35471ae28028"
      },
      "source": [
        "print('불용어 개수: ', len(stop_words))\n",
        "print(stop_words)"
      ],
      "execution_count": null,
      "outputs": [
        {
          "output_type": "stream",
          "name": "stdout",
          "text": [
            "불용어 개수:  179\n",
            "{'to', 'further', 'him', 'down', 'hasn', \"couldn't\", 'as', 'ours', 'who', 'being', 'yours', 'this', 'then', 'aren', \"wouldn't\", 'didn', 'did', 'of', 'own', 'no', 'below', 'and', 'from', 'same', \"hasn't\", 'with', 'under', 'wouldn', 'won', 'there', 'up', 'such', 'does', 's', 'where', 'them', 'hadn', 'above', 'until', 'ma', \"needn't\", \"you'll\", 'not', 'himself', 'mustn', 're', 'each', 'by', \"she's\", 'hers', 'should', 've', 'doesn', 'having', 'have', 'you', 'your', \"that'll\", 'if', 'while', 'm', 'will', 'a', 'couldn', 'here', 'y', 'weren', 'our', \"mustn't\", 'all', 'few', \"won't\", 'these', 'both', 'we', 'out', \"you've\", \"isn't\", 'yourself', 'only', 'ourselves', 'theirs', 'me', 'so', 'what', 'during', 'about', \"aren't\", 'yourselves', 'between', 'against', \"should've\", \"shouldn't\", 'nor', 'my', \"don't\", 'll', 'now', 'over', \"mightn't\", 'her', 'on', 'haven', 'she', 'after', 't', 'how', 'very', 'wasn', \"you're\", \"weren't\", \"didn't\", 'at', 'can', 'other', 'is', 'don', \"haven't\", 'itself', 'they', 'for', 'their', 'in', 'those', 'any', 'herself', 'are', 'been', 'its', 'mightn', 'more', 'through', 'when', 'his', 'than', 'shouldn', 'd', 'isn', \"hadn't\", 'before', 'that', 'had', 'whom', 'were', 'am', 'or', \"doesn't\", 'too', 'has', 'myself', 'because', 'just', \"wasn't\", 'the', 'shan', 'themselves', 'into', 'why', 'but', 'which', 'doing', \"shan't\", 'i', 'needn', \"it's\", 'most', 'be', 'it', \"you'd\", 'do', 'off', 'o', 'ain', 'an', 'he', 'once', 'some', 'again', 'was'}\n"
          ]
        }
      ]
    },
    {
      "cell_type": "code",
      "metadata": {
        "id": "ui5sp5DEHCKV"
      },
      "source": [
        "# 전처리 함수 설계: Text 열에서는 불용어를 제거, Summary 열에서는 불용어를 제거X\n",
        "def preprocess_sentence(sentence, remove_stopwords = True):\n",
        "  sentence = sentence.lower() # 텍스트 소문자화\n",
        "  sentence = BeautifulSoup(sentence, 'lxml').text # html 태그 제거\n",
        "  sentence = re.sub(r'\\([^)]*\\)', '', sentence) # 괄호로 닫힌 문자열 제거\n",
        "  sentence = re.sub('\"', \"\", sentence) # 쌍따옴표 제거\n",
        "  sentence = ' '.join([contractions[t] if t in contractions else t for t in sentence.split(\" \")]) # 약어 정규화\n",
        "  sentence = re.sub(r\"'s\\b\", \"\", sentence) # 소유격 제거\n",
        "  sentence = re.sub(\"[^a-zA-Z]\", \" \", sentence) # 영어 외 문자 공백으로 변환\n",
        "  sentence = re.sub('[m]{2,}', 'mm', sentence) # m이 3개 이상이면 2개로 변경 EX) ummmmmmmm yeah -> umm yeah\n",
        "\n",
        "  # 불용어 제거 (Text)\n",
        "  if remove_stopwords:\n",
        "    tokens = ' '.join(word for word in sentence.split() if not word in stop_words if len(word) > 1)\n",
        "\n",
        "  # 불용어 미제거 (Summary)\n",
        "  else:\n",
        "    tokens = ' '.join(word for word in sentence.split() if len(word) > 1)\n",
        "  \n",
        "  return tokens"
      ],
      "execution_count": null,
      "outputs": []
    },
    {
      "cell_type": "code",
      "metadata": {
        "colab": {
          "base_uri": "https://localhost:8080/"
        },
        "id": "KFOdcvr1LRrZ",
        "outputId": "cbee3eee-4c9d-49f5-e64a-20a9281538fd"
      },
      "source": [
        "# 전처리 함수 Test\n",
        "temp_text = 'Everything I bought was great, infact I ordered twice and the third ordered was<br />for my mother and father.'\n",
        "temp_summary = 'Great way to start (or finish) the day!!!'\n",
        "print(preprocess_sentence(temp_text))\n",
        "print(preprocess_sentence(temp_summary, 0)) # summary 문장은 두번째 인자를 0으로 줌으로써, 불용어를 제거하지 않도록 함."
      ],
      "execution_count": null,
      "outputs": [
        {
          "output_type": "stream",
          "name": "stdout",
          "text": [
            "everything bought great infact ordered twice third ordered wasfor mother father\n",
            "great way to start the day\n"
          ]
        }
      ]
    },
    {
      "cell_type": "code",
      "metadata": {
        "colab": {
          "base_uri": "https://localhost:8080/"
        },
        "id": "5R7OwOCRLlux",
        "outputId": "c9d6454c-745c-4bb6-b467-3d6c1c008367"
      },
      "source": [
        "# Text 열에 대한 전처리\n",
        "clean_text = []\n",
        "for s in data['Text']:\n",
        "  clean_text.append(preprocess_sentence(s))\n",
        "\n",
        "clean_text[:5]"
      ],
      "execution_count": null,
      "outputs": [
        {
          "output_type": "execute_result",
          "data": {
            "text/plain": [
              "['bought several vitality canned dog food products found good quality product looks like stew processed meat smells better labrador finicky appreciates product better',\n",
              " 'product arrived labeled jumbo salted peanuts peanuts actually small sized unsalted sure error vendor intended represent product jumbo',\n",
              " 'confection around centuries light pillowy citrus gelatin nuts case filberts cut tiny squares liberally coated powdered sugar tiny mouthful heaven chewy flavorful highly recommend yummy treat familiar story lewis lion witch wardrobe treat seduces edmund selling brother sisters witch',\n",
              " 'looking secret ingredient robitussin believe found got addition root beer extract ordered made cherry soda flavor medicinal',\n",
              " 'great taffy great price wide assortment yummy taffy delivery quick taffy lover deal']"
            ]
          },
          "metadata": {},
          "execution_count": 19
        }
      ]
    },
    {
      "cell_type": "code",
      "metadata": {
        "colab": {
          "base_uri": "https://localhost:8080/"
        },
        "id": "VIpe_7S_Mo0u",
        "outputId": "25405c68-83a7-468e-bfa3-1c0f0a188183"
      },
      "source": [
        "# Summary 열에 대한 전처리\n",
        "clean_summary = []\n",
        "for s in data['Summary']:\n",
        "    clean_summary.append(preprocess_sentence(s, 0))\n",
        "clean_summary[:5]"
      ],
      "execution_count": null,
      "outputs": [
        {
          "output_type": "stream",
          "name": "stderr",
          "text": [
            "/usr/local/lib/python3.7/dist-packages/bs4/__init__.py:336: UserWarning: \"http://www.amazon.com/gp/product/b007i7yygy/ref=cm_cr_rev_prod_title\" looks like a URL. Beautiful Soup is not an HTTP client. You should probably use an HTTP client like requests to get the document behind the URL, and feed that document to Beautiful Soup.\n",
            "  ' that document to Beautiful Soup.' % decoded_markup\n"
          ]
        },
        {
          "output_type": "execute_result",
          "data": {
            "text/plain": [
              "['good quality dog food',\n",
              " 'not as advertised',\n",
              " 'delight says it all',\n",
              " 'cough medicine',\n",
              " 'great taffy']"
            ]
          },
          "metadata": {},
          "execution_count": 20
        }
      ]
    },
    {
      "cell_type": "code",
      "metadata": {
        "colab": {
          "base_uri": "https://localhost:8080/"
        },
        "id": "DPrflPxGM_Y6",
        "outputId": "0c4cfd29-3990-4940-8568-9a51a7c323f1"
      },
      "source": [
        "clean_summary[:5]"
      ],
      "execution_count": null,
      "outputs": [
        {
          "output_type": "execute_result",
          "data": {
            "text/plain": [
              "['good quality dog food',\n",
              " 'not as advertised',\n",
              " 'delight says it all',\n",
              " 'cough medicine',\n",
              " 'great taffy']"
            ]
          },
          "metadata": {},
          "execution_count": 21
        }
      ]
    },
    {
      "cell_type": "code",
      "metadata": {
        "id": "45xv-3GINQg7"
      },
      "source": [
        "# 전처리한 데이터를 다시 데이터프레임에 저장\n",
        "data['Text'] = clean_text\n",
        "data['Summary'] = clean_summary"
      ],
      "execution_count": null,
      "outputs": []
    },
    {
      "cell_type": "code",
      "metadata": {
        "colab": {
          "base_uri": "https://localhost:8080/"
        },
        "id": "JyIDpVShP7km",
        "outputId": "5c288895-8cef-4c3d-d30b-98e970ec5c41"
      },
      "source": [
        "# 공백인 샘플은 null 값으로 변환\n",
        "data.replace('', np.nan, inplace = True)\n",
        "print(data.isnull().sum())"
      ],
      "execution_count": null,
      "outputs": [
        {
          "output_type": "stream",
          "name": "stdout",
          "text": [
            "Text        0\n",
            "Summary    70\n",
            "dtype: int64\n"
          ]
        }
      ]
    },
    {
      "cell_type": "code",
      "metadata": {
        "colab": {
          "base_uri": "https://localhost:8080/"
        },
        "id": "Yrj6wEiNQK0b",
        "outputId": "b9ddd45c-b7d6-405a-b656-3f43f944c18a"
      },
      "source": [
        "data.dropna(axis = 0, inplace = True)\n",
        "print(\"전체 샘플수: \", len(data))"
      ],
      "execution_count": null,
      "outputs": [
        {
          "output_type": "stream",
          "name": "stdout",
          "text": [
            "전체 샘플수:  88355\n"
          ]
        }
      ]
    },
    {
      "cell_type": "code",
      "metadata": {
        "colab": {
          "base_uri": "https://localhost:8080/",
          "height": 961
        },
        "id": "sIXQj6VIQYI0",
        "outputId": "3a4f6b6e-2268-4fcb-f7f3-5a840908fe8e"
      },
      "source": [
        "# 데이터 길이 분포 출력\n",
        "text_len = [len(s.split()) for s in data ['Text']]\n",
        "summary_len = [len(s.split()) for s in data ['Summary']]\n",
        "\n",
        "print('텍스트의 최소 길이 : {}'.format(np.min(text_len)))\n",
        "print('텍스트의 최대 길이 : {}'.format(np.max(text_len)))\n",
        "print('텍스트의 평균 길이 : {}'.format(np.mean(text_len)))\n",
        "print('요약의 최소 길이 : {}'.format(np.min(summary_len)))\n",
        "print('요약의 최대 길이 : {}'.format(np.max(summary_len)))\n",
        "print('요약의 평균 길이 : {}'.format(np.mean(summary_len)))\n",
        "\n",
        "plt.subplot(1,2,1)\n",
        "plt.boxplot(summary_len)\n",
        "plt.title('Summary')\n",
        "plt.subplot(1,2,2)\n",
        "plt.boxplot(text_len)\n",
        "plt.title(\"Text\")\n",
        "plt.tight_layout()\n",
        "plt.show()\n",
        "\n",
        "plt.title('Summary')\n",
        "plt.hist(summary_len, bins = 40)\n",
        "plt.xlabel(\"length of samples\")\n",
        "plt.ylabel(\"number of samples\")\n",
        "plt.show()\n",
        "\n",
        "plt.title('Text')\n",
        "plt.hist(text_len, bins = 40)\n",
        "plt.xlabel(\"length of samples\")\n",
        "plt.ylabel(\"number of samples\")\n",
        "plt.show()"
      ],
      "execution_count": null,
      "outputs": [
        {
          "output_type": "stream",
          "name": "stdout",
          "text": [
            "텍스트의 최소 길이 : 2\n",
            "텍스트의 최대 길이 : 1235\n",
            "텍스트의 평균 길이 : 38.792428272310566\n",
            "요약의 최소 길이 : 1\n",
            "요약의 최대 길이 : 28\n",
            "요약의 평균 길이 : 4.010729443721352\n"
          ]
        },
        {
          "output_type": "display_data",
          "data": {
            "image/png": "[encoded data removed]",
            "text/plain": [
              "<Figure size 432x288 with 2 Axes>"
            ]
          },
          "metadata": {
            "needs_background": "light"
          }
        },
        {
          "output_type": "display_data",
          "data": {
            "image/png": "[encoded data removed]",
            "text/plain": [
              "<Figure size 432x288 with 1 Axes>"
            ]
          },
          "metadata": {
            "needs_background": "light"
          }
        },
        {
          "output_type": "display_data",
          "data": {
            "image/png": "[encoded data removed]",
            "text/plain": [
              "<Figure size 432x288 with 1 Axes>"
            ]
          },
          "metadata": {
            "needs_background": "light"
          }
        }
      ]
    },
    {
      "cell_type": "code",
      "metadata": {
        "id": "AlPk1t8HSTkg"
      },
      "source": [
        "# 패딩의 길이 결정\n",
        "text_max_len = 50\n",
        "summary_max_len = 8"
      ],
      "execution_count": null,
      "outputs": []
    },
    {
      "cell_type": "code",
      "metadata": {
        "id": "MxtbqNxFSkPA"
      },
      "source": [
        "# 위의 문장의 최대 길이보다 큰 샘플들의 개수\n",
        "def below_threshold_len(max_len, nested_list):\n",
        "  cnt = 0\n",
        "  for s in nested_list:\n",
        "    if(len(s.split()) <= max_len):\n",
        "      cnt = cnt + 1\n",
        "\n",
        "  print('전체 샘플 중 길이가 %s이하인 샘플의 비율: %s'%(max_len, (cnt/len(nested_list))))"
      ],
      "execution_count": null,
      "outputs": []
    },
    {
      "cell_type": "code",
      "metadata": {
        "colab": {
          "base_uri": "https://localhost:8080/"
        },
        "id": "cQspVJ4fTlML",
        "outputId": "0df4aab4-1592-42a6-9a25-c1cbe05679f3"
      },
      "source": [
        "# text 열에 대해서 먼저 확인\n",
        "below_threshold_len(text_max_len, data['Text'])"
      ],
      "execution_count": null,
      "outputs": [
        {
          "output_type": "stream",
          "name": "stdout",
          "text": [
            "전체 샘플 중 길이가 50이하인 샘플의 비율: 0.7745119121724859\n"
          ]
        }
      ]
    },
    {
      "cell_type": "code",
      "metadata": {
        "colab": {
          "base_uri": "https://localhost:8080/"
        },
        "id": "26SCac_GTxb9",
        "outputId": "ba0632e2-240f-45b1-f42b-4225eae0e815"
      },
      "source": [
        "# summary 열에 대해서 확인\n",
        "below_threshold_len(summary_max_len, data['Summary'])"
      ],
      "execution_count": null,
      "outputs": [
        {
          "output_type": "stream",
          "name": "stdout",
          "text": [
            "전체 샘플 중 길이가 8이하인 샘플의 비율: 0.9424593967517402\n"
          ]
        }
      ]
    },
    {
      "cell_type": "code",
      "metadata": {
        "colab": {
          "base_uri": "https://localhost:8080/"
        },
        "id": "Cl6ubBKzT85w",
        "outputId": "e413217f-4424-4eba-dfed-6c6a452549c2"
      },
      "source": [
        "# 정해준 최대 길이보다 큰 샘플들은 제거\n",
        "data = data[data['Text'].apply(lambda x: len(x.split()) <= text_max_len)]\n",
        "data = data[data['Summary'].apply(lambda x: len(x.split()) <= summary_max_len)]\n",
        "print('전체 샘플 수: ', len(data))"
      ],
      "execution_count": null,
      "outputs": [
        {
          "output_type": "stream",
          "name": "stdout",
          "text": [
            "전체 샘플 수:  65818\n"
          ]
        }
      ]
    },
    {
      "cell_type": "code",
      "metadata": {
        "colab": {
          "base_uri": "https://localhost:8080/",
          "height": 204
        },
        "id": "AKNpfaqZUeSw",
        "outputId": "6af6f585-1b56-4cb9-ef14-4ce36979c9e2"
      },
      "source": [
        "data.head()"
      ],
      "execution_count": null,
      "outputs": [
        {
          "output_type": "execute_result",
          "data": {
            "text/html": [
              "<div>\n",
              "<style scoped>\n",
              "    .dataframe tbody tr th:only-of-type {\n",
              "        vertical-align: middle;\n",
              "    }\n",
              "\n",
              "    .dataframe tbody tr th {\n",
              "        vertical-align: top;\n",
              "    }\n",
              "\n",
              "    .dataframe thead th {\n",
              "        text-align: right;\n",
              "    }\n",
              "</style>\n",
              "<table border=\"1\" class=\"dataframe\">\n",
              "  <thead>\n",
              "    <tr style=\"text-align: right;\">\n",
              "      <th></th>\n",
              "      <th>Text</th>\n",
              "      <th>Summary</th>\n",
              "    </tr>\n",
              "  </thead>\n",
              "  <tbody>\n",
              "    <tr>\n",
              "      <th>0</th>\n",
              "      <td>bought several vitality canned dog food produc...</td>\n",
              "      <td>good quality dog food</td>\n",
              "    </tr>\n",
              "    <tr>\n",
              "      <th>1</th>\n",
              "      <td>product arrived labeled jumbo salted peanuts p...</td>\n",
              "      <td>not as advertised</td>\n",
              "    </tr>\n",
              "    <tr>\n",
              "      <th>2</th>\n",
              "      <td>confection around centuries light pillowy citr...</td>\n",
              "      <td>delight says it all</td>\n",
              "    </tr>\n",
              "    <tr>\n",
              "      <th>3</th>\n",
              "      <td>looking secret ingredient robitussin believe f...</td>\n",
              "      <td>cough medicine</td>\n",
              "    </tr>\n",
              "    <tr>\n",
              "      <th>4</th>\n",
              "      <td>great taffy great price wide assortment yummy ...</td>\n",
              "      <td>great taffy</td>\n",
              "    </tr>\n",
              "  </tbody>\n",
              "</table>\n",
              "</div>"
            ],
            "text/plain": [
              "                                                Text                Summary\n",
              "0  bought several vitality canned dog food produc...  good quality dog food\n",
              "1  product arrived labeled jumbo salted peanuts p...      not as advertised\n",
              "2  confection around centuries light pillowy citr...    delight says it all\n",
              "3  looking secret ingredient robitussin believe f...         cough medicine\n",
              "4  great taffy great price wide assortment yummy ...            great taffy"
            ]
          },
          "metadata": {},
          "execution_count": 31
        }
      ]
    },
    {
      "cell_type": "code",
      "metadata": {
        "colab": {
          "base_uri": "https://localhost:8080/",
          "height": 204
        },
        "id": "I2xIc-ijUgYO",
        "outputId": "7af9ac3c-4491-40a9-b283-aaa6d85e49d2"
      },
      "source": [
        "# seq2seq 모델 훈련을 위해서\n",
        "# 요약 데이터에는 시작 토큰(sostoken)과 종료 토큰(eostoken)을 추가.\n",
        "data['decoder_input'] = data['Summary'].apply(lambda x: 'sostoken ' + x)\n",
        "data['decoder_target'] = data['Summary'].apply(lambda x: x + ' eostoken')\n",
        "data.head()"
      ],
      "execution_count": null,
      "outputs": [
        {
          "output_type": "execute_result",
          "data": {
            "text/html": [
              "<div>\n",
              "<style scoped>\n",
              "    .dataframe tbody tr th:only-of-type {\n",
              "        vertical-align: middle;\n",
              "    }\n",
              "\n",
              "    .dataframe tbody tr th {\n",
              "        vertical-align: top;\n",
              "    }\n",
              "\n",
              "    .dataframe thead th {\n",
              "        text-align: right;\n",
              "    }\n",
              "</style>\n",
              "<table border=\"1\" class=\"dataframe\">\n",
              "  <thead>\n",
              "    <tr style=\"text-align: right;\">\n",
              "      <th></th>\n",
              "      <th>Text</th>\n",
              "      <th>Summary</th>\n",
              "      <th>decoder_input</th>\n",
              "      <th>decoder_target</th>\n",
              "    </tr>\n",
              "  </thead>\n",
              "  <tbody>\n",
              "    <tr>\n",
              "      <th>0</th>\n",
              "      <td>bought several vitality canned dog food produc...</td>\n",
              "      <td>good quality dog food</td>\n",
              "      <td>sostoken good quality dog food</td>\n",
              "      <td>good quality dog food eostoken</td>\n",
              "    </tr>\n",
              "    <tr>\n",
              "      <th>1</th>\n",
              "      <td>product arrived labeled jumbo salted peanuts p...</td>\n",
              "      <td>not as advertised</td>\n",
              "      <td>sostoken not as advertised</td>\n",
              "      <td>not as advertised eostoken</td>\n",
              "    </tr>\n",
              "    <tr>\n",
              "      <th>2</th>\n",
              "      <td>confection around centuries light pillowy citr...</td>\n",
              "      <td>delight says it all</td>\n",
              "      <td>sostoken delight says it all</td>\n",
              "      <td>delight says it all eostoken</td>\n",
              "    </tr>\n",
              "    <tr>\n",
              "      <th>3</th>\n",
              "      <td>looking secret ingredient robitussin believe f...</td>\n",
              "      <td>cough medicine</td>\n",
              "      <td>sostoken cough medicine</td>\n",
              "      <td>cough medicine eostoken</td>\n",
              "    </tr>\n",
              "    <tr>\n",
              "      <th>4</th>\n",
              "      <td>great taffy great price wide assortment yummy ...</td>\n",
              "      <td>great taffy</td>\n",
              "      <td>sostoken great taffy</td>\n",
              "      <td>great taffy eostoken</td>\n",
              "    </tr>\n",
              "  </tbody>\n",
              "</table>\n",
              "</div>"
            ],
            "text/plain": [
              "                                                Text  ...                  decoder_target\n",
              "0  bought several vitality canned dog food produc...  ...  good quality dog food eostoken\n",
              "1  product arrived labeled jumbo salted peanuts p...  ...      not as advertised eostoken\n",
              "2  confection around centuries light pillowy citr...  ...    delight says it all eostoken\n",
              "3  looking secret ingredient robitussin believe f...  ...         cough medicine eostoken\n",
              "4  great taffy great price wide assortment yummy ...  ...            great taffy eostoken\n",
              "\n",
              "[5 rows x 4 columns]"
            ]
          },
          "metadata": {},
          "execution_count": 32
        }
      ]
    },
    {
      "cell_type": "code",
      "metadata": {
        "id": "yhPUQ3jDVZs8"
      },
      "source": [
        "# 인코더의 입력, 디코더의 입력과 레이블을 각각 저장.\n",
        "encoder_input = np.array(data['Text'])\n",
        "decoder_input = np.array(data['decoder_input'])\n",
        "decoder_target = np.array(data['decoder_target'])"
      ],
      "execution_count": null,
      "outputs": []
    },
    {
      "cell_type": "markdown",
      "metadata": {
        "id": "LcJfPB1-VuIY"
      },
      "source": [
        "# 3) 데이터의 분리"
      ]
    },
    {
      "cell_type": "code",
      "metadata": {
        "colab": {
          "base_uri": "https://localhost:8080/"
        },
        "id": "qR-2aJu0VtKM",
        "outputId": "91d36b41-c5a5-4ac7-9619-af10d092e9d1"
      },
      "source": [
        "# 정수 시퀀스 만들기\n",
        "indices = np.arange(encoder_input.shape[0]) # 데이터 총 갯수의 인덱스인듯\n",
        "np.random.shuffle(indices)\n",
        "print(indices)"
      ],
      "execution_count": null,
      "outputs": [
        {
          "output_type": "stream",
          "name": "stdout",
          "text": [
            "[61165 60938 37145 ... 45440 26023  1298]\n"
          ]
        }
      ]
    },
    {
      "cell_type": "code",
      "metadata": {
        "id": "Q8YoexpTT4y9"
      },
      "source": [
        "# 위의 섞인 정수 시퀀스 순서를 데이터의 샘플 순서로 정의해서 샘플 섞기\n",
        "encoder_input = encoder_input[indices]\n",
        "decoder_input = decoder_input[indices]\n",
        "decoder_target = decoder_target[indices]"
      ],
      "execution_count": null,
      "outputs": []
    },
    {
      "cell_type": "code",
      "metadata": {
        "colab": {
          "base_uri": "https://localhost:8080/"
        },
        "id": "alr-vA9FVsIq",
        "outputId": "cffcd883-e4bc-44af-db12-73a47f431fd4"
      },
      "source": [
        "# train / test data 분리\n",
        "n_of_val = int(len(encoder_input)*0.2) # 전체 input data 중 20%를 테스트 데이터로 사용.\n",
        "print('테스트 데이터의 수: ', n_of_val)"
      ],
      "execution_count": null,
      "outputs": [
        {
          "output_type": "stream",
          "name": "stdout",
          "text": [
            "테스트 데이터의 수:  13163\n"
          ]
        }
      ]
    },
    {
      "cell_type": "code",
      "metadata": {
        "id": "4HgQjHLIV8-1"
      },
      "source": [
        "encoder_input_train = encoder_input[:-n_of_val]\n",
        "decoder_input_train = decoder_input[:-n_of_val]\n",
        "decoder_target_train = decoder_target[:-n_of_val]\n",
        "\n",
        "encoder_input_test = encoder_input[-n_of_val:]\n",
        "decoder_input_test = decoder_input[-n_of_val:]\n",
        "decoder_target_test = decoder_target[-n_of_val:]"
      ],
      "execution_count": null,
      "outputs": []
    },
    {
      "cell_type": "code",
      "metadata": {
        "colab": {
          "base_uri": "https://localhost:8080/"
        },
        "id": "4F4enyyHXMeN",
        "outputId": "b5bc2c6f-2c6e-45fb-93dc-ff047f45d3f4"
      },
      "source": [
        "print('훈련 데이터의 개수: ', len(encoder_input_train))\n",
        "print('훈련 레이블의 개수: ', len(decoder_input_train))\n",
        "print('테스트 데이터의 개수: ', len(encoder_input_test))\n",
        "print('테스트 레이블의 개수: ', len(decoder_input_test))"
      ],
      "execution_count": null,
      "outputs": [
        {
          "output_type": "stream",
          "name": "stdout",
          "text": [
            "훈련 데이터의 개수:  52655\n",
            "훈련 레이블의 개수:  52655\n",
            "테스트 데이터의 개수:  13163\n",
            "테스트 레이블의 개수:  13163\n"
          ]
        }
      ]
    },
    {
      "cell_type": "markdown",
      "metadata": {
        "id": "VG6KwMf3Xv8S"
      },
      "source": [
        "#4) 정수 인코딩"
      ]
    },
    {
      "cell_type": "code",
      "metadata": {
        "id": "tqaFgci7Xp4a"
      },
      "source": [
        "# 기계가 텍스트를 숫자로 처리할 수 있도록, 데이터에 대한 정수 인코딩\n",
        "# 훈련 데이터에 대해서 단어 집합 만들기\n",
        "src_tokenizer = Tokenizer()\n",
        "src_tokenizer.fit_on_texts(encoder_input_train)"
      ],
      "execution_count": null,
      "outputs": []
    },
    {
      "cell_type": "code",
      "metadata": {
        "colab": {
          "base_uri": "https://localhost:8080/"
        },
        "id": "2kdzd6aAYFkQ",
        "outputId": "cbdd22d6-32c1-482d-ce09-7210bcec230b"
      },
      "source": [
        "# 위의 생성된 단어 집합은 src_tokenizer.word_index에 저장되어 있음.\n",
        "# 이 단어 집합 중 빈도수가 낮은 단어들은 배제\n",
        "\n",
        "threshold = 7\n",
        "total_cnt = len(src_tokenizer.word_index) # 단어의 수\n",
        "rare_cnt = 0 # 등장 빈도수가 threshold보다 작은 단어의 개수를 카운트\n",
        "total_freq = 0 # 훈련 데이터의 전체 단어 빈도수 총합\n",
        "rare_freq = 0 # 등장 빈도수가 threshold보다 작은 단어의 등장 빈도수의 총합\n",
        "\n",
        "# 단어와 빈도수의 쌍(pair)을 key와 vaue로 받는다.\n",
        "for key, value in src_tokenizer.word_counts.items():\n",
        "  total_freq = total_freq + value\n",
        "  \n",
        "  if(value < threshold):\n",
        "    rare_cnt = rare_cnt + 1\n",
        "    rare_freq = rare_freq + value\n",
        "\n",
        "print('단어 집합(vocabulary)의 크기: ', total_cnt)\n",
        "print('등장 빈도가 %s번 이하인 희귀 단어의 수: %s'%(threshold - 1, rare_cnt))\n",
        "print('단어 집합에서 희귀 단어를 제외시킬 경우의 단어 집합의 크기 %s'%(total_cnt - rare_cnt))\n",
        "print('단어 집합에서 희귀 단어의 비율:', (rare_cnt/total_cnt)*100)\n",
        "print('전체 등장 빈도에서 희귀 단어 등장 빈도 비율:', (rare_freq/total_freq) * 100)"
      ],
      "execution_count": null,
      "outputs": [
        {
          "output_type": "stream",
          "name": "stdout",
          "text": [
            "단어 집합(vocabulary)의 크기:  31987\n",
            "등장 빈도가 6번 이하인 희귀 단어의 수: 23700\n",
            "단어 집합에서 희귀 단어를 제외시킬 경우의 단어 집합의 크기 8287\n",
            "단어 집합에서 희귀 단어의 비율: 74.09260011879826\n",
            "전체 등장 빈도에서 희귀 단어 등장 빈도 비율: 3.383968496474902\n"
          ]
        }
      ]
    },
    {
      "cell_type": "markdown",
      "metadata": {
        "id": "jRi0fHC2b4K7"
      },
      "source": [
        "위의 분석 결과, 등장 빈도가 7회 미만인 저빈도 단어의 단어집합에서의 차지 비중은 74%에 달하나, 등장빈도에서의 차지 비중은 3.39% 밖에되지 않음.\n",
        "따라서, 6회 이하의 저빈도 단어들을 정수 인코딩에서 배제!!"
      ]
    },
    {
      "cell_type": "code",
      "metadata": {
        "id": "ad053Zfoa2Ob"
      },
      "source": [
        "src_vocab = 8000 # 단어집합의 크기를 제한\n",
        "src_tokenizer = Tokenizer(num_words = src_vocab)\n",
        "src_tokenizer.fit_on_texts(encoder_input_train)\n",
        "\n",
        "# 텍스트 시퀀스를 정수 시퀀스로 변환\n",
        "encoder_input_train = src_tokenizer.texts_to_sequences(encoder_input_train)\n",
        "encoder_input_test = src_tokenizer.texts_to_sequences(encoder_input_test)"
      ],
      "execution_count": null,
      "outputs": []
    },
    {
      "cell_type": "code",
      "metadata": {
        "colab": {
          "base_uri": "https://localhost:8080/"
        },
        "id": "pX-jGCAcd6Bz",
        "outputId": "2a23bb7b-c566-469d-d006-7b7fee8c66db"
      },
      "source": [
        "# 정수 인코딩이 되었는지 확인.\n",
        "print(encoder_input_train[:3])"
      ],
      "execution_count": null,
      "outputs": [
        {
          "output_type": "stream",
          "name": "stdout",
          "text": [
            "[[632, 179, 39, 1, 4640, 1303, 70, 1393, 7, 57, 980, 414, 361, 20, 447, 255, 54, 7683, 1241, 385, 298, 1772, 147, 39, 3, 49, 4388, 108], [4, 489, 206, 446, 91, 583, 100, 2009, 611, 867, 2202, 138, 2766, 334, 2202, 7, 4523, 871, 54, 446, 138, 55, 208, 611, 2009, 2708, 2766, 33, 446, 35, 2766, 2009, 618, 98, 9, 3147, 2767, 75, 100, 4054], [143, 93, 514, 123, 525, 197, 96, 190, 338, 856, 223, 71, 21, 5086, 394, 394, 239, 15, 531, 197]]\n"
          ]
        }
      ]
    },
    {
      "cell_type": "code",
      "metadata": {
        "id": "cnbQuqTLd-yB"
      },
      "source": [
        "# 레이블에 해당하는 요약 데이터에 대해서도 정수 인코딩 수행\n",
        "tar_tokenizer = Tokenizer()\n",
        "tar_tokenizer.fit_on_texts(decoder_input_train)"
      ],
      "execution_count": null,
      "outputs": []
    },
    {
      "cell_type": "code",
      "metadata": {
        "colab": {
          "base_uri": "https://localhost:8080/"
        },
        "id": "Ze8du4SBeX8d",
        "outputId": "501c25db-e38c-4d81-c5e9-c03313bef6cf"
      },
      "source": [
        "# 등장 빈도수가 6회 미만인 단어들이 차지하는 비중 확인\n",
        "threshold = 6\n",
        "total_cnt = len(tar_tokenizer.word_index) # 단어의 수\n",
        "rare_cnt = 0\n",
        "total_freq = 0\n",
        "rare_freq = 0\n",
        "\n",
        "# 단어와 빈도수의 쌍을 key와 value로 받는다.\n",
        "for key, value in tar_tokenizer.word_counts.items():\n",
        "  total_freq = total_freq + value\n",
        "\n",
        "  if value < threshold:\n",
        "    rare_cnt = rare_cnt + 1\n",
        "    rare_freq = rare_freq + value\n",
        "\n",
        "print('단어 집합(vocabulary)의 크기 :',total_cnt)\n",
        "print('등장 빈도가 %s번 이하인 희귀 단어의 수: %s'%(threshold - 1, rare_cnt))\n",
        "print('단어 집합에서 희귀 단어를 제외시킬 경우의 단어 집합의 크기 %s'%(total_cnt - rare_cnt))\n",
        "print(\"단어 집합에서 희귀 단어의 비율:\", (rare_cnt / total_cnt)*100)\n",
        "print(\"전체 등장 빈도에서 희귀 단어 등장 빈도 비율:\", (rare_freq / total_freq)*100)"
      ],
      "execution_count": null,
      "outputs": [
        {
          "output_type": "stream",
          "name": "stdout",
          "text": [
            "단어 집합(vocabulary)의 크기 : 10524\n",
            "등장 빈도가 5번 이하인 희귀 단어의 수: 8150\n",
            "단어 집합에서 희귀 단어를 제외시킬 경우의 단어 집합의 크기 2374\n",
            "단어 집합에서 희귀 단어의 비율: 77.44203724819461\n",
            "전체 등장 빈도에서 희귀 단어 등장 빈도 비율: 5.940836959469056\n"
          ]
        }
      ]
    },
    {
      "cell_type": "markdown",
      "metadata": {
        "id": "KogPxXXSfK6k"
      },
      "source": [
        "등장빈도가 5번 이하인 단어들은 단어집합에서 77% 비중을 차지하나, 전체 등장 빈도에서는 5.94% 밖에 되지 않음. 따라서 이 단어들을 정수 인코딩 과정에서 배제"
      ]
    },
    {
      "cell_type": "code",
      "metadata": {
        "id": "zTTq1sdsfIS3"
      },
      "source": [
        "tar_vocab = 2000\n",
        "tar_tokenizer = Tokenizer(num_words = tar_vocab)\n",
        "tar_tokenizer.fit_on_texts(decoder_input_train)\n",
        "tar_tokenizer.fit_on_texts(decoder_target_train)"
      ],
      "execution_count": null,
      "outputs": []
    },
    {
      "cell_type": "code",
      "metadata": {
        "id": "n3rLS1pDgIKR"
      },
      "source": [
        "# 텍스트 시퀀스를 정수 시퀀스로 변환\n",
        "decoder_input_train = tar_tokenizer.texts_to_sequences(decoder_input_train)\n",
        "decoder_target_train = tar_tokenizer.texts_to_sequences(decoder_target_train)\n",
        "decoder_input_test = tar_tokenizer.texts_to_sequences(decoder_input_test)\n",
        "decoder_target_test = tar_tokenizer.texts_to_sequences(decoder_target_test)"
      ],
      "execution_count": null,
      "outputs": []
    },
    {
      "cell_type": "code",
      "metadata": {
        "colab": {
          "base_uri": "https://localhost:8080/"
        },
        "id": "Au48epC1hYwa",
        "outputId": "ced2f5f6-55f4-435e-c879-14d33c79bab7"
      },
      "source": [
        "print(decoder_input_train[:5])"
      ],
      "execution_count": null,
      "outputs": [
        {
          "output_type": "stream",
          "name": "stdout",
          "text": [
            "[[1, 130, 15], [1, 15, 19, 240], [1, 51, 63, 385, 319, 118], [1, 397, 948], [1, 29, 122]]\n"
          ]
        }
      ]
    },
    {
      "cell_type": "code",
      "metadata": {
        "colab": {
          "base_uri": "https://localhost:8080/"
        },
        "id": "WAq6oCjWhdR2",
        "outputId": "2e1250d0-8f06-4d81-db79-10f61858dd7d"
      },
      "source": [
        "print(decoder_target_train[:5])"
      ],
      "execution_count": null,
      "outputs": [
        {
          "output_type": "stream",
          "name": "stdout",
          "text": [
            "[[130, 15, 2], [15, 19, 240, 2], [51, 63, 385, 319, 118, 2], [397, 948, 2], [29, 122, 2]]\n"
          ]
        }
      ]
    },
    {
      "cell_type": "markdown",
      "metadata": {
        "id": "v_-_l2yrhkgl"
      },
      "source": [
        "#5) 빈 샘플(empty samples) 제거"
      ]
    },
    {
      "cell_type": "markdown",
      "metadata": {
        "id": "CVs4CvP2isim"
      },
      "source": [
        "전체 데이터에서 빈도수가 낮은 단어를 제외해주었기 때문에, 낮은 단어만으로 구성되었던 샘플들은 이제 빈 샘플이 된 것.\n",
        "상대적으로 길이가 길었던 원문에 비해서 평균 길이가 4 밖에 되지 않았던 요약문의 경우에는 이 현상이 두드러졌을 가능성이 매우 높음.\n",
        "요약문에서 길이가 0이 된 샘플들의 인텍스를 받아오기. 여기서 주의할 점은 요약문인 decoder_input에는 sostoken, decoder_target에는 eostoken이 추가된 상태이기 때문에 이 두 토큰은 모든 샘플에서 등장하므로, 단어 집합 제한에도 삭제가 되지 않음.\n",
        "그래서 이제 길이가 0이된 요약문의 실질적인 길이는 1"
      ]
    },
    {
      "cell_type": "code",
      "metadata": {
        "id": "h7rA7TVchg5G"
      },
      "source": [
        "# 훈련 데이터와 테스트 데이터에서 요약문의 길이가 1인 경우의 인덱스를 각각 drop_train과 drop_test에 저장\n",
        "drop_train = [index for index, sentence in enumerate(decoder_input_train) if len(sentence) == 1]\n",
        "drop_test = [index for index, sentence in enumerate(decoder_input_test) if len(sentence) == 1]"
      ],
      "execution_count": null,
      "outputs": []
    },
    {
      "cell_type": "code",
      "metadata": {
        "colab": {
          "base_uri": "https://localhost:8080/"
        },
        "id": "xiwVXFKllTpO",
        "outputId": "65c58896-1eb8-4ed1-ef66-4a26d761699b"
      },
      "source": [
        "print('삭제할 훈련 데이터의 개수:', len(drop_train))\n",
        "print('삭제할 테스트 데이터의 개수:', len(drop_test))"
      ],
      "execution_count": null,
      "outputs": [
        {
          "output_type": "stream",
          "name": "stdout",
          "text": [
            "삭제할 훈련 데이터의 개수: 1310\n",
            "삭제할 테스트 데이터의 개수: 292\n"
          ]
        }
      ]
    },
    {
      "cell_type": "code",
      "metadata": {
        "colab": {
          "base_uri": "https://localhost:8080/"
        },
        "id": "6gFrTPkGlkGS",
        "outputId": "ec9e3d35-2379-409a-f1ba-a07f81d25aa4"
      },
      "source": [
        "encoder_input_train = np.delete(encoder_input_train, drop_train, axis = 0)\n",
        "decoder_input_train = np.delete(decoder_input_train, drop_train, axis = 0)\n",
        "decoder_target_train = np.delete(decoder_target_train, drop_train, axis = 0)\n",
        "\n",
        "encoder_input_test = np.delete(encoder_input_test, drop_test, axis = 0)\n",
        "decoder_input_test = np.delete(decoder_input_test, drop_test, axis = 0)\n",
        "decoder_target_test = np.delete(decoder_target_test, drop_test, axis = 0)\n",
        "\n",
        "print(\"훈련 데이터의 개수: \", len(encoder_input_train))\n",
        "print('훈련 레이블의 개수: ', len(decoder_input_train))\n",
        "print('테스트 데이터의 개수: ', len(encoder_input_test))\n",
        "print('테스트 레이블의 개수: ', len(decoder_input_test))"
      ],
      "execution_count": null,
      "outputs": [
        {
          "output_type": "stream",
          "name": "stdout",
          "text": [
            "훈련 데이터의 개수:  51345\n",
            "훈련 레이블의 개수:  51345\n",
            "테스트 데이터의 개수:  12871\n",
            "테스트 레이블의 개수:  12871\n"
          ]
        },
        {
          "output_type": "stream",
          "name": "stderr",
          "text": [
            "/usr/local/lib/python3.7/dist-packages/numpy/core/_asarray.py:83: VisibleDeprecationWarning: Creating an ndarray from ragged nested sequences (which is a list-or-tuple of lists-or-tuples-or ndarrays with different lengths or shapes) is deprecated. If you meant to do this, you must specify 'dtype=object' when creating the ndarray\n",
            "  return array(a, dtype, copy=False, order=order)\n"
          ]
        }
      ]
    },
    {
      "cell_type": "markdown",
      "metadata": {
        "id": "w3gTt66Tm1lo"
      },
      "source": [
        "#6) 패딩하기"
      ]
    },
    {
      "cell_type": "code",
      "metadata": {
        "id": "zxeLk4AEmxaY"
      },
      "source": [
        "# 앞서 계산해둔 최대 길이로 맞추어서 패딩작업을 수행\n",
        "encoder_input_train = pad_sequences(encoder_input_train, maxlen = text_max_len, padding = 'post')\n",
        "encoder_input_test = pad_sequences(encoder_input_test, maxlen = text_max_len, padding = 'post')\n",
        "\n",
        "decoder_input_train = pad_sequences(decoder_input_train, maxlen = summary_max_len, padding = 'post')\n",
        "decoder_input_test = pad_sequences(decoder_input_test, maxlen = summary_max_len, padding = 'post')\n",
        "decoder_target_train = pad_sequences(decoder_target_train, maxlen = summary_max_len, padding = 'post')\n",
        "decoder_target_test = pad_sequences(decoder_target_test, maxlen = summary_max_len, padding = 'post')"
      ],
      "execution_count": null,
      "outputs": []
    },
    {
      "cell_type": "markdown",
      "metadata": {
        "id": "cr4vEwl1sgk6"
      },
      "source": [
        "# 7)  seq2seq + attention으로 요약 모델 설계 및 훈련시키기"
      ]
    },
    {
      "cell_type": "code",
      "metadata": {
        "id": "cK-TFdtAsdoN"
      },
      "source": [
        "# 필요한 라이브러리 import\n",
        "from tensorflow.keras.layers import Input, LSTM, Embedding, Dense, Concatenate\n",
        "from tensorflow.keras.models import Model\n",
        "from tensorflow.keras.callbacks import EarlyStopping, ModelCheckpoint"
      ],
      "execution_count": null,
      "outputs": []
    },
    {
      "cell_type": "markdown",
      "metadata": {
        "id": "KDiS_0Lls6rs"
      },
      "source": [
        "인코더 설계: LSTM 3층으로 쌓기"
      ]
    },
    {
      "cell_type": "code",
      "metadata": {
        "id": "Z65s0soqs3mW"
      },
      "source": [
        "# 인코더 설계\n",
        "embedding_dim = 128\n",
        "hidden_size = 256\n",
        "\n",
        "# 인코더\n",
        "encoder_inputs = Input(shape = (text_max_len,)) # 모두 패딩을 통해서 text_max_len길이로 맞춰놨음.\n",
        "\n",
        "# 인코더의 임베딩 층\n",
        "enc_emb = Embedding(src_vocab, embedding_dim)(encoder_inputs)\n",
        "\n",
        "# 인코더의 LSTM 1\n",
        "encoder_lstm1 = LSTM(hidden_size, return_sequences=True, return_state=True, dropout = 0.4, recurrent_dropout=0.4)\n",
        "encoder_output1, state_h1, state_c1 = encoder_lstm1(enc_emb)\n",
        "\n",
        "# 인코더의 LSTM 2\n",
        "encoder_lstm2 = LSTM(hidden_size, return_sequences=True, return_state=True, dropout=0.4, recurrent_dropout=0.4)\n",
        "encoder_output2, state_h2, state_c2 = encoder_lstm2(encoder_output1)\n",
        "\n",
        "# 인코더의 LSTM 3\n",
        "encoder_lstm3 = LSTM(hidden_size, return_sequences=True, return_state=True, dropout=0.4, recurrent_dropout=0.4)\n",
        "encoder_outputs, state_h, state_c = encoder_lstm3(encoder_output2)"
      ],
      "execution_count": null,
      "outputs": []
    },
    {
      "cell_type": "markdown",
      "metadata": {
        "id": "hkQwXDDdyBlV"
      },
      "source": [
        "디코더 설계: 단, 출력층은 제외하고 설계. 인코더와 사실상 동일하지만, 초기 상태(initial_state)를 인코더의 상태로 주어야 함."
      ]
    },
    {
      "cell_type": "code",
      "metadata": {
        "id": "cAWdXx-hx3qw"
      },
      "source": [
        "# 디코더\n",
        "decoder_inputs = Input(shape = (None,))\n",
        "\n",
        "# 디코더의 임베딩 층\n",
        "dec_emb_layer = Embedding(tar_vocab, embedding_dim)\n",
        "dec_emb = dec_emb_layer(decoder_inputs)\n",
        "\n",
        "# 디코더의 LSTM\n",
        "decoder_lstm = LSTM(hidden_size, return_sequences=True, return_state=True, dropout = 0.4, recurrent_dropout=0.2)\n",
        "decoder_outputs, _, _ = decoder_lstm(dec_emb, initial_state = [state_h, state_c]) # 초기상태를 인코더의 상태로 위에서 그대로 가져온 것."
      ],
      "execution_count": null,
      "outputs": []
    },
    {
      "cell_type": "code",
      "metadata": {
        "colab": {
          "base_uri": "https://localhost:8080/"
        },
        "id": "lhxCtM34zl08",
        "outputId": "815be050-dd1a-4253-e24c-b6f56b7728da"
      },
      "source": [
        "# 디코더의 출력층\n",
        "decoder_softmax_layer = Dense(tar_vocab, activation = 'softmax')\n",
        "decoder_softmax_outputs = decoder_softmax_layer(decoder_outputs)\n",
        "\n",
        "# 모델 정의\n",
        "model = Model([encoder_inputs, decoder_inputs], decoder_softmax_outputs)\n",
        "model.summary()"
      ],
      "execution_count": null,
      "outputs": [
        {
          "output_type": "stream",
          "name": "stdout",
          "text": [
            "Model: \"model\"\n",
            "__________________________________________________________________________________________________\n",
            "Layer (type)                    Output Shape         Param #     Connected to                     \n",
            "==================================================================================================\n",
            "input_1 (InputLayer)            [(None, 50)]         0                                            \n",
            "__________________________________________________________________________________________________\n",
            "embedding (Embedding)           (None, 50, 128)      1024000     input_1[0][0]                    \n",
            "__________________________________________________________________________________________________\n",
            "lstm (LSTM)                     [(None, 50, 256), (N 394240      embedding[0][0]                  \n",
            "__________________________________________________________________________________________________\n",
            "input_2 (InputLayer)            [(None, None)]       0                                            \n",
            "__________________________________________________________________________________________________\n",
            "lstm_1 (LSTM)                   [(None, 50, 256), (N 525312      lstm[0][0]                       \n",
            "__________________________________________________________________________________________________\n",
            "embedding_1 (Embedding)         (None, None, 128)    256000      input_2[0][0]                    \n",
            "__________________________________________________________________________________________________\n",
            "lstm_2 (LSTM)                   [(None, 50, 256), (N 525312      lstm_1[0][0]                     \n",
            "__________________________________________________________________________________________________\n",
            "lstm_3 (LSTM)                   [(None, None, 256),  394240      embedding_1[0][0]                \n",
            "                                                                 lstm_2[0][1]                     \n",
            "                                                                 lstm_2[0][2]                     \n",
            "__________________________________________________________________________________________________\n",
            "dense (Dense)                   (None, None, 2000)   514000      lstm_3[0][0]                     \n",
            "==================================================================================================\n",
            "Total params: 3,633,104\n",
            "Trainable params: 3,633,104\n",
            "Non-trainable params: 0\n",
            "__________________________________________________________________________________________________\n"
          ]
        }
      ]
    },
    {
      "cell_type": "markdown",
      "metadata": {
        "id": "0HifVWFQ0zUw"
      },
      "source": [
        "지금까지 위에서 설계했던 모델은 seq2seq 챕터에서 배웠던 내용과 동일.\n",
        "그러나, 이번에는 **어텐션 매커니즘**을 사용할 에정이므로, 방금 위에서 설계한 출력층을 사용하지 않고, 어텐션 메커니즘이 결합된 새로운 출력층을 설계할 예정. (github에서 공개된 attention함수를 import해서 사용할 예정.)"
      ]
    },
    {
      "cell_type": "code",
      "metadata": {
        "id": "zVc4mFlH0tC1"
      },
      "source": [
        "urllib.request.urlretrieve(\"https://raw.githubusercontent.com/thushv89/attention_keras/master/src/layers/attention.py\", filename=\"attention.py\")\n",
        "from attention import AttentionLayer"
      ],
      "execution_count": null,
      "outputs": []
    },
    {
      "cell_type": "code",
      "metadata": {
        "colab": {
          "base_uri": "https://localhost:8080/"
        },
        "id": "DAfw3L1z1aco",
        "outputId": "cf84474d-59c9-47dd-b3cc-3f7633958951"
      },
      "source": [
        "# 어텐션 층(어텐션 함수)\n",
        "attn_layer = AttentionLayer(name='attention_layer')\n",
        "attn_out, attn_states = attn_layer([encoder_outputs, decoder_outputs])\n",
        "\n",
        "# 어텐션의 결과와 디코더의 hidden state들을 연결\n",
        "decoder_concat_input = Concatenate(axis = -1, name='concat_layer')([decoder_outputs, attn_out])\n",
        "\n",
        "# 디코더의 출력층\n",
        "decoder_softmax_layer = Dense(tar_vocab, activation='softmax')\n",
        "decoder_softmax_outputs = decoder_softmax_layer(decoder_concat_input)\n",
        "\n",
        "# 모델 정의\n",
        "model = Model([encoder_inputs, decoder_inputs], decoder_softmax_outputs)\n",
        "model.summary()"
      ],
      "execution_count": null,
      "outputs": [
        {
          "output_type": "stream",
          "name": "stdout",
          "text": [
            "Model: \"model_1\"\n",
            "__________________________________________________________________________________________________\n",
            "Layer (type)                    Output Shape         Param #     Connected to                     \n",
            "==================================================================================================\n",
            "input_1 (InputLayer)            [(None, 50)]         0                                            \n",
            "__________________________________________________________________________________________________\n",
            "embedding (Embedding)           (None, 50, 128)      1024000     input_1[0][0]                    \n",
            "__________________________________________________________________________________________________\n",
            "lstm (LSTM)                     [(None, 50, 256), (N 394240      embedding[0][0]                  \n",
            "__________________________________________________________________________________________________\n",
            "input_2 (InputLayer)            [(None, None)]       0                                            \n",
            "__________________________________________________________________________________________________\n",
            "lstm_1 (LSTM)                   [(None, 50, 256), (N 525312      lstm[0][0]                       \n",
            "__________________________________________________________________________________________________\n",
            "embedding_1 (Embedding)         (None, None, 128)    256000      input_2[0][0]                    \n",
            "__________________________________________________________________________________________________\n",
            "lstm_2 (LSTM)                   [(None, 50, 256), (N 525312      lstm_1[0][0]                     \n",
            "__________________________________________________________________________________________________\n",
            "lstm_3 (LSTM)                   [(None, None, 256),  394240      embedding_1[0][0]                \n",
            "                                                                 lstm_2[0][1]                     \n",
            "                                                                 lstm_2[0][2]                     \n",
            "__________________________________________________________________________________________________\n",
            "attention_layer (AttentionLayer ((None, None, 256),  131328      lstm_2[0][0]                     \n",
            "                                                                 lstm_3[0][0]                     \n",
            "__________________________________________________________________________________________________\n",
            "concat_layer (Concatenate)      (None, None, 512)    0           lstm_3[0][0]                     \n",
            "                                                                 attention_layer[0][0]            \n",
            "__________________________________________________________________________________________________\n",
            "dense_1 (Dense)                 (None, None, 2000)   1026000     concat_layer[0][0]               \n",
            "==================================================================================================\n",
            "Total params: 4,276,432\n",
            "Trainable params: 4,276,432\n",
            "Non-trainable params: 0\n",
            "__________________________________________________________________________________________________\n"
          ]
        }
      ]
    },
    {
      "cell_type": "code",
      "metadata": {
        "id": "PAe_Y_ou-Tz9"
      },
      "source": [
        "# 모델 컴파일\n",
        "model.compile(optimizer = 'adam', loss = 'sparse_categorical_crossentropy')"
      ],
      "execution_count": null,
      "outputs": []
    },
    {
      "cell_type": "code",
      "metadata": {
        "colab": {
          "base_uri": "https://localhost:8080/"
        },
        "id": "EgApnwQ-RmPc",
        "outputId": "7be7b740-943e-460e-9d3e-807bad43d3f2"
      },
      "source": [
        "# 조기 종료 조건을 설정. 모델 학습\n",
        "es = EarlyStopping(monitor='val_loss', mode = 'min', verbose = 1, patience = 2)\n",
        "history = model.fit(x = [encoder_input_train, decoder_input_train], y = decoder_target_train,\n",
        "                    validation_data = ([encoder_input_test, decoder_input_test], decoder_target_test),\n",
        "                    batch_size = 256, callbacks = [es], epochs = 5)"
      ],
      "execution_count": null,
      "outputs": [
        {
          "output_type": "stream",
          "name": "stdout",
          "text": [
            "Train on 51345 samples, validate on 12871 samples\n",
            "Epoch 1/5\n",
            "51345/51345 [==============================] - 1038s 20ms/sample - loss: 2.3535 - val_loss: 2.2743\n",
            "Epoch 2/5\n",
            "51345/51345 [==============================] - 1039s 20ms/sample - loss: 2.2748 - val_loss: 2.1995\n",
            "Epoch 3/5\n",
            "51345/51345 [==============================] - 1046s 20ms/sample - loss: 2.1934 - val_loss: 2.1223\n",
            "Epoch 4/5\n",
            "51345/51345 [==============================] - 1048s 20ms/sample - loss: 2.1141 - val_loss: 2.0639\n",
            "Epoch 5/5\n",
            "51345/51345 [==============================] - 1040s 20ms/sample - loss: 2.0502 - val_loss: 2.0212\n"
          ]
        }
      ]
    },
    {
      "cell_type": "markdown",
      "metadata": {
        "id": "wE6uVPeZblW3"
      },
      "source": [
        "# 8) seq2seq + attention으로 요약 모델 테스트하기"
      ]
    },
    {
      "cell_type": "code",
      "metadata": {
        "id": "Yf5_WnncS59a"
      },
      "source": [
        "# 테스트를 위한 3개의 사전 만들기\n",
        "src_index_to_word = src_tokenizer.index_word # 원문 단어 집합에서 정수 -> 단어를 얻음.\n",
        "tar_word_to_index = tar_tokenizer.word_index # 요약 단어 집합에서 단어 -> 정수를 얻음.\n",
        "tar_index_to_word = tar_tokenizer.index_word # 오약 단어 집합에서 정수 -> 단어를 얻음."
      ],
      "execution_count": null,
      "outputs": []
    },
    {
      "cell_type": "markdown",
      "metadata": {
        "id": "VhW5aRyscUFr"
      },
      "source": [
        "seq2seq은 훈련 단계와 테스트 단계의 동작이 다르므로, 테스트 단계의 모델을 별도로 다시 설계."
      ]
    },
    {
      "cell_type": "code",
      "metadata": {
        "id": "TSZKx4POcbAD"
      },
      "source": [
        "# 인코터 설계\n",
        "encoder_model = Model(inputs = encoder_inputs, outputs = [encoder_outputs, state_h, state_c])"
      ],
      "execution_count": null,
      "outputs": []
    },
    {
      "cell_type": "code",
      "metadata": {
        "id": "9UsMi5FPc8-2"
      },
      "source": [
        "# 테스트 단계의 디코더를 설계\n",
        "# 이전 시점의 상태들을 저장하는 텐서\n",
        "decoder_state_input_h = Input(shape = (hidden_size,))\n",
        "decoder_state_input_c = Input(shape = (hidden_size,))\n",
        "\n",
        "dec_emb2 = dec_emb_layer(decoder_inputs)\n",
        "\n",
        "# 문장의 다음 단어를 예측하기 위해서 초기상태(initial_state)를 이전 시점의 상태로 사용. 이는 뒤의 함수 decode_sequence()에 구현\n",
        "# 훈련 과정에서와 달리 LSTM의 리턴하는 은닉 상태와 셀 상태인 state_h와 state_c를 버리지 않음.\n",
        "decoder_outputs2, state_h2, state_c2 = decoder_lstm(dec_emb2, initial_state = [decoder_state_input_h, decoder_state_input_c])"
      ],
      "execution_count": null,
      "outputs": []
    },
    {
      "cell_type": "code",
      "metadata": {
        "id": "6T8YflhjfnZ_"
      },
      "source": [
        "decoder_hidden_state_input = Input(shape = (text_max_len, hidden_size))\n",
        "attn_out_inf, attn_states_inf = attn_layer([decoder_hidden_state_input, decoder_outputs2])\n",
        "decoder_inf_concat = Concatenate(axis = -1, name = 'concat')([decoder_outputs2, attn_out_inf])\n",
        "\n",
        "# 디코더의 출력층\n",
        "decoder_outputs2 = decoder_softmax_layer(decoder_inf_concat)\n",
        "\n",
        "# 최종 디코더 모델\n",
        "decoder_model = Model(\n",
        "    [decoder_inputs] + [decoder_hidden_state_input, decoder_state_input_h, decoder_state_input_c],\n",
        "    [decoder_outputs2] + [state_h2, state_c2]\n",
        ")"
      ],
      "execution_count": null,
      "outputs": []
    },
    {
      "cell_type": "code",
      "metadata": {
        "id": "36xLqyjAiSRY"
      },
      "source": [
        "# 테스트를 위해 사용되는 함수 decode_sequence를 설계\n",
        "def decode_sequence(input_seq):\n",
        "  # 입력으로부터 인코더의 상태를 얻음\n",
        "  e_out, e_h, e_c = encoder_model.predict(input_seq)\n",
        "\n",
        "  # <SOS>에 해당하는 토큰 생성\n",
        "  target_seq = np.zeros((1,1))\n",
        "  target_seq[0,0] = tar_word_to_index['sostoken']\n",
        "  \n",
        "  stop_condition = False\n",
        "  decoded_sentence = ''\n",
        "  while not stop_condition: # stop_condition이 True가 될 때까지 반복.\n",
        "    output_tokens, h, c = decoder_model.predict([target_seq] + [e_out, e_h, e_c])\n",
        "    sampled_token_index = np.argmax(output_tokens[0, -1, :])\n",
        "    sampled_token = tar_index_to_word[sampled_token_index]\n",
        "\n",
        "    if (sampled_token != 'eostoken'):\n",
        "      decoded_sentence += ' ' + sampled_token\n",
        "\n",
        "    # <eos>에 도달하거나 최대 길이를 넘으면 중단.\n",
        "    if(sampled_token == 'eostoken' or len(decoded_sentence.split()) >= (summary_max_len-1)):\n",
        "      stop_condition = True\n",
        "\n",
        "    # 길이가 1인 타겟 시퀀스를 업데이트\n",
        "    target_seq = np.zeros((1,1))\n",
        "    target_seq[0,0] = sampled_token_index\n",
        "\n",
        "    # 상태를 업데이트\n",
        "    e_h, e_c = h, c\n",
        "\n",
        "  return decoded_sentence"
      ],
      "execution_count": null,
      "outputs": []
    },
    {
      "cell_type": "markdown",
      "metadata": {
        "id": "_P4vyecUnAzh"
      },
      "source": [
        "테스트 단계에서 원문과 실제 요약문, 예측 요약문을 비교하기 위한 정수 시퀀스를 텍스트 시퀀스로 만드는 함수를 설계"
      ]
    },
    {
      "cell_type": "code",
      "metadata": {
        "id": "1VHB23STl_TW"
      },
      "source": [
        "# 원문의 정수 시퀀스를 텍스트 시퀀스로 변환\n",
        "def seq2text(input_seq):\n",
        "  sentence = ''\n",
        "  for i in input_seq:\n",
        "    if(i!=0):\n",
        "      sentence = sentence + src_index_to_word[i] + ' '\n",
        "  return sentence\n",
        "\n",
        "# 요약문의 정수 시퀀스를 텍스트 시퀀스로 변환\n",
        "def seq2summary(input_seq):\n",
        "  sentence = ''\n",
        "  for i in input_seq:\n",
        "    if((i!=0 and i!=tar_word_to_index['sostoken']) and i!=tar_word_to_index['eostoken']):\n",
        "      sentence = sentence + tar_index_to_word[i] + ' '\n",
        "  return sentence"
      ],
      "execution_count": null,
      "outputs": []
    },
    {
      "cell_type": "code",
      "metadata": {
        "colab": {
          "base_uri": "https://localhost:8080/"
        },
        "id": "PIO8jXFxoC0m",
        "outputId": "94cd343c-f573-4e9f-ea33-2c8557c2f053"
      },
      "source": [
        "# 테스트 샘플 중 500번부터 1000번까지 테스트\n",
        "for i in range(100, 200):\n",
        "  print(\"원문: \", seq2text(encoder_input_test[i]))\n",
        "  print('실제 요약문: ', seq2summary(decoder_input_test[i]))\n",
        "  print('예측 요약문: ', decode_sequence(encoder_input_test[i].reshape(1, text_max_len)))"
      ],
      "execution_count": null,
      "outputs": [
        {
          "output_type": "stream",
          "name": "stdout",
          "text": [
            "원문:  year old westie used product years truly one best worry getting soap dogs eyes \n",
            "실제 요약문:  great \n",
            "예측 요약문:   great product\n",
            "원문:  bought toy year ago golden girl would wolf food forget eaten saw store hesitant would get tries showing food came mastered hungry bring place feet takes lot longer eat content happy since bought round version mastered tug jug \n",
            "실제 요약문:  golden loves it \n",
            "예측 요약문:   great product\n",
            "원문:  tea award usa know mandarin silk loose leaf oolong tea like name suggests silk silk tongue tea warm relaxing taste makes feel wonderful well done art tea \n",
            "실제 요약문:  awesome \n",
            "예측 요약문:   great tea\n",
            "원문:  colors intense quite normal hoping strong colors let tested \n",
            "실제 요약문:  its okay \n",
            "예측 요약문:   great coffee\n",
            "원문:  best junk food items taste craving chips without guilt kids love lunches \n",
            "실제 요약문:  awesome \n",
            "예측 요약문:   great product\n",
            "원문:  yes dog loves loves death gumball machine broken back using kong discover buy another plastic part gumball machine want reward cheap supplier \n",
            "실제 요약문:  key are cheap plastic \n",
            "예측 요약문:   great product\n",
            "원문:  like supporting smaller family owned also great prices amazon syrup taste like maple might well bought generic corn syrup based pancake syrup supermarket try different brand next time \n",
            "실제 요약문:  great price not very maple \n",
            "예측 요약문:   great product\n",
            "원문:  tried conditioners clear line reason one little figured addition shea butter conditioner would even power average hair soft feel completely use leave achieve desired results also little disappointed scent wow factor conditioners seemed bland overall product average \n",
            "실제 요약문:  worked fine \n",
            "예측 요약문:   great product\n",
            "원문:  dog like also gives diarrhea avoid giving dog food possible many bad allergens shame ray put name awful product \n",
            "실제 요약문:  garbage \n",
            "예측 요약문:   great product\n",
            "원문:  since using product dogs coat improved soooooo much loves fish breath health improved \n",
            "실제 요약문:  best dog food have found \n",
            "예측 요약문:   great product\n",
            "원문:  absolutely delicious compare mix gluten free best hands \n",
            "실제 요약문:  the best \n",
            "예측 요약문:   great\n",
            "원문:  flavors dogs favorite still original wish carried local go purchase flavors \n",
            "실제 요약문:  dogs love it \n",
            "예측 요약문:   great product\n",
            "원문:  well certainly unique tastes bad hot cold could taste lemon bit honey flavor came thank goodness otherwise like drinking water grated fresh ginger sprinkle sushi meat cook drink way love ginger stuff pretty gross \n",
            "실제 요약문:  too ginger yuk \n",
            "예측 요약문:   great\n",
            "원문:  great snack trying avoid dairy sugar mild ginger taste makes great snack desert \n",
            "실제 요약문:  non gluten snack \n",
            "예측 요약문:   great\n",
            "원문:  good recieved summer voxbox go purchase full size box immediately \n",
            "실제 요약문:  yummy \n",
            "예측 요약문:   great product\n",
            "원문:  love tea mug full morning start day bitter overpowering weak either add little bit honey treat \n",
            "실제 요약문:  tea for me \n",
            "예측 요약문:   great tea\n",
            "원문:  original statement canada stops baby seals products canada \n",
            "실제 요약문:  family farms pure organic maple syrup \n",
            "예측 요약문:   great coffee\n",
            "원문:  quality dog food year old cocker spaniel loves energy alert give half ounce morning half evening also give newman dry dog food twice day expensive pets deserve best \n",
            "실제 요약문:  newman organic chicken brown rice dog food \n",
            "예측 요약문:   great product\n",
            "원문:  cats love food clean fresh eat right wish cans aluminum easier \n",
            "실제 요약문:  outstanding \n",
            "예측 요약문:   great product\n",
            "원문:  expecting lot product however little flavor little flavor tasted fake many ginger team ginger based drinks every single one better one pass one unless like drinks little flavor \n",
            "실제 요약문:  just ok \n",
            "예측 요약문:   great\n",
            "원문:  bought give party favors son baseball themed birthday party huge hit adults children \n",
            "실제 요약문:  great item \n",
            "예측 요약문:   great\n",
            "원문:  stuff amazing unlike many hot sauces focus burn hot sauce fantastic flavor still kick big comes hot sauce suffer gladly great flavor sauce difficult find stores ever see worth trying \n",
            "실제 요약문:  best tasting hot sauce \n",
            "예측 요약문:   great product\n",
            "원문:  wilton christmas arrived quickly pleased see true photo color shape tasty decorations really pop treats made stand looked great bright white brilliant red crisp green price great product wonderful plan order holiday baking take house pros shape wish larger container sizes online \n",
            "실제 요약문:  treat \n",
            "예측 요약문:   great\n",
            "원문:  son absolutely loves still buy ella kitchen products occasionally variety brands happy baby provide quality organic products much lower cost ella kitchen excellent product love everything every tried cannot justify significant difference cost much expensive brands really good organic baby food \n",
            "실제 요약문:  excellent snack but too expensive \n",
            "예측 요약문:   great product\n",
            "원문:  grandson multiple allergies grains except rice discovered potato chips amazon com thrilled three ingredients none allergic purchasing ever since try reading ingredients list chips see mean ingredients anyway happy take lunch school eat potato chips good thank mad munchies amazon com \n",
            "실제 요약문:  sea salted potato chips \n",
            "예측 요약문:   great product\n",
            "원문:  product great cannot seem find locally pet food stores worth feeding pet best super fast delivery seller \n",
            "실제 요약문:  pet food delivery \n",
            "예측 요약문:   great product\n",
            "원문:  wife dislike drinking plain water trying healthy hearing favorable reviews decided try hint water tried sample pack includes several flavors like hint great name product hint flavor similar leaving pitcher water fridge overnight strawberry fruit personally would rather drink plain water especially given price flavor water \n",
            "실제 요약문:  ok but expensive \n",
            "예측 요약문:   great product\n",
            "원문:  one favorites bold smooth touch toffee taste light delish bit cream \n",
            "실제 요약문:  yummy smooth \n",
            "예측 요약문:   great coffee\n",
            "원문:  purchased sometimes seem pick metal flavor amazingly yummy packed tons liquid get lot product mind lb huge sure plan consumption want go waste \n",
            "실제 요약문:  wonderful \n",
            "예측 요약문:   great\n",
            "원문:  say big fan bag went quickly soon anyone knows get new best friend \n",
            "실제 요약문:  best candy ever \n",
            "예측 요약문:   great product\n",
            "원문:  tea delivered promised timely manner enjoying fresh brew daily satisfied service described pack allows one enjoy tea fear running plenty give box gift let friend sample well \n",
            "실제 요약문:  fruit hibiscus tea \n",
            "예측 요약문:   great tea\n",
            "원문:  dog seems love wish little bigger dog goes thru like water bit pricy company needs make larger bags value \n",
            "실제 요약문:  live natural treats for dogs \n",
            "예측 요약문:   great product\n",
            "원문:  cup pods work fine keurig brewer slightly sediment bottom cup would like see variety blends available find fog chaser bit bitter tastes add sugar like wasting much plastic every cup \n",
            "실제 요약문:  am only on my nd cup \n",
            "예측 요약문:   great coffee\n",
            "원문:  daughter born put similac advantage okay week gas pains lactose free brand ok week problem switched similac soy better getting horribly constipated finally switched soy different baby never gas pains poops regularly easily best formula far \n",
            "실제 요약문:  the best by far \n",
            "예측 요약문:   great\n",
            "원문:  introduced greek seasoning several years ago greek festival versatile use steaks grill pork chops season gravy season hamburgers potatoes give gifts friends love much \n",
            "실제 요약문:  greek seasoning is the best \n",
            "예측 요약문:   great product\n",
            "원문:  pink color nice bright made candy hearts came also used cake pops mixed little amount paramount crystals liquid enough coating cake pops liquids much better wilton paramount crystals \n",
            "실제 요약문:  nice color \n",
            "예측 요약문:   great product\n",
            "원문:  coffee connoisseur like good medium roast taste grind brew coffeemaker buy whole bean copper moon coffee become staple household keep supply time perfect blend husband glad discovered online amazon keeps wasting money buying coffee beans fancy coffee shops \n",
            "실제 요약문:  favorite morning brew \n",
            "예측 요약문:   great coffee\n",
            "원문:  daughter absolutely loved gift basket goodies birthday actually said better usual cake always getting looking get orders vendor family occasions \n",
            "실제 요약문:  gift basket review \n",
            "예측 요약문:   great product\n",
            "원문:  came back porridge saw truly great hooked \n",
            "실제 요약문:  great stuff \n",
            "예측 요약문:   great product\n",
            "원문:  honestly understand raving reviews product horribly bitter downright nasty bitter would waste money smooth flavor \n",
            "실제 요약문:  not my cup of coffee too bitter \n",
            "예측 요약문:   great coffee\n",
            "원문:  giving dogs greenies years excitement receiving treat never expensive feel animals well worth doggie health food finest price amazon best found date however completely disgusted packaging product huge box wasteful environmentally sound come greenies people put product pouch call day \n",
            "실제 요약문:  greenies are the greatest \n",
            "예측 요약문:   my dog loves these\n",
            "원문:  cats enjoy daily treat keep low ash due kidney specific types foods made byproducts also enjoy instinct duck rabbit service great continue reorder petsmart petco cheaper available time find need always amazon \n",
            "실제 요약문:  select turkey wild rice \n",
            "예측 요약문:   great product\n",
            "원문:  candy hit although quality shipped wax bottles melted another causing one big clump wax candy great \n",
            "실제 요약문:  order in \n",
            "예측 요약문:   great product\n",
            "원문:  case petco site worth cents charging \n",
            "실제 요약문:  cheaper on \n",
            "예측 요약문:   great product\n",
            "원문:  completely repulsive tried one looked package ingredients liquid egg listed ingredient explains alot eat eggs imagine particularly sensitive flavor egg cracker seemed concentrated expect taste cracker buttery strange glutino sell pretzels better wheat based kind crackers taste awful guess work people really \n",
            "실제 요약문:  actually tastes like liquid egg \n",
            "예측 요약문:   great product\n",
            "원문:  toddler loves great snack day easy take car \n",
            "실제 요약문:  love these \n",
            "예측 요약문:   great\n",
            "원문:  great cereal always seen cupboard amazon pricing fair keeps coming back \n",
            "실제 요약문:  another nature plus favorite \n",
            "예측 요약문:   great product\n",
            "원문:  taste much better brands good shelf life subscribe save lets sure always right amount hand best price \n",
            "실제 요약문:  great taste \n",
            "예측 요약문:   great product\n",
            "원문:  bubbly crisp ginger ale excellent strong ginger bite sugary taste like far many ginger market hint honey lovely concoction crispness reed ginger incredibly refreshing hot summer day try ice cream ginger ale float \n",
            "실제 요약문:  tasty scrumptious delicious refreshing \n",
            "예측 요약문:   great\n",
            "원문:  happy caviar company shipment arrived next day well packaged wonderfully reusable freezer packs caviar fresh extremely tasty would certainly order \n",
            "실제 요약문:  yum \n",
            "예측 요약문:   great\n",
            "원문:  impossible find organic dried milk organic house use milk making bread pancakes instant people noted would take work likely blender mix use perfect price good find increasingly turn amazon organic dry goods better selection much better prices local natural foods store even grocery store carries organics \n",
            "실제 요약문:  what expected \n",
            "예측 요약문:   great product\n",
            "원문:  enjoy peach apricot tea quite sure truly enjoy particular brand kidding whatsoever really good tea next order several cans instead one works great storage container tea many items \n",
            "실제 요약문:  great tasting tea \n",
            "예측 요약문:   great tea\n",
            "원문:  ordered four one pound bags product extremely impressed way packaged tightly packaged thick plastic none spilled leaked shipping furthermore product worked great project price right barry farms terrific job certainly continue order products future first order certainly recommend others \n",
            "실제 요약문:  this product is terrific \n",
            "예측 요약문:   great product\n",
            "원문:  absolutely adore tea especially summer refreshing caffine free nice large package get season since bag makes gallon ice tea service shipping fast get free pack mini candy order bags \n",
            "실제 요약문:  wonderful tea \n",
            "예측 요약문:   great tea\n",
            "원문:  better environment less packaging far best priced keurig cup costco dollars cheaper though pack \n",
            "실제 요약문:  awesome coffee \n",
            "예측 요약문:   great coffee\n",
            "원문:  knowing kraft foods brand bought paris brought home us one best whole bean coffees ever wish local stores sold bitter complete taste like flavorful likes bitter loved coffee highly recommended \n",
            "실제 요약문:  good kraft foods coffee yes \n",
            "예측 요약문:   great product\n",
            "원문:  bars delicious easy grab time factor especially like amount protein available gluten free sugar low compared bars amazon best price well worth delivered schedule even greater savings \n",
            "실제 요약문:  the perfect snack \n",
            "예측 요약문:   great\n",
            "원문:  makes great gift christmas many years count one favorite gifts give according recipient one favorite receive larger sampler even better choice available budget anything \n",
            "실제 요약문:  coffee sampler \n",
            "예측 요약문:   great product\n",
            "원문:  know chia seeds really super food brand seems good quality bought kinds look better since eat sprinkled morning cereal expensive buy higher priced brand \n",
            "실제 요약문:  good quality \n",
            "예측 요약문:   great product\n",
            "원문:  fruit juice plus carbonation thought sounded strange right like fizzy juice box like strong fruit juice may like like juice give little kick thought would add vodka shot fix anything wrong buy juice drink mixer struggled pouring drain drank love vodka love black cherry switch \n",
            "실제 요약문:  the switch but from what \n",
            "예측 요약문:   good but not\n",
            "원문:  trouble recently finding equal spoonfuls big canister found amazon good price buy \n",
            "실제 요약문:  getting hard to find \n",
            "예측 요약문:   great product\n",
            "원문:  gustaf come classic wine gum shapes flavors slightly tart tangy flavor texture nothing like many soft gummies wine gums like ones remember buying little candy shops studying england merchant order came sooner expected excellent condition \n",
            "실제 요약문:  classic wine gums \n",
            "예측 요약문:   great product\n",
            "원문:  cats love greenies product look forward come asking every morning healthy snack feel good giving flavors cat might prefer one would recommend highly nutritious delicious treat \n",
            "실제 요약문:  greenies for cats \n",
            "예측 요약문:   my dog loves these\n",
            "원문:  suppose habit mine coffee lot like well made percolator coffee years ago discovered choice favorite instant hands put teaspoons worth coffee cup water nuke microwave coffee strong tastes like espresso well strong definitely potent amazon sells price local stores free shipping real convenience love coffee looking something new \n",
            "실제 요약문:  instant coffees \n",
            "예측 요약문:   great coffee\n",
            "원문:  recipe cooking instructions work tried numerous times fix happened someone try something realistic gave stars sold working instructions works somewhat figure eventually made lots tapioca years albeit regular organic terrible never buy overpriced nearly good normal stuff would appreciate proper instructions \n",
            "실제 요약문:  bought on special and hated it \n",
            "예측 요약문:   great product\n",
            "원문:  chips ahoy chewy oatmeal cookies moist difficult separate single cookie package without breaking pieces tastebuds say sweet cooked enough lack ample chocolate chips oatmeal flakes like cookie dough likely enjoy stick crunchy less sweet cookie \n",
            "실제 요약문:  stick with the \n",
            "예측 요약문:   great\n",
            "원문:  week get older cat take pill twice day tried pill pockets cat begs pills divide half give one half without pill give one pill begs \n",
            "실제 요약문:  the way to give cat pill \n",
            "예측 요약문:   great product\n",
            "원문:  dogs love make smell thus gave stars got wait till time give \n",
            "실제 요약문:  dogs love \n",
            "예측 요약문:   great product\n",
            "원문:  daughter love sticky rice kit makes rice comes texture sticky rice get restaurants lot sauce recipes make rice kit find sauce recipe suits soak rice overnight set bowl counter leave work soaking period super simple put basket covered cheese cloth let cook \n",
            "실제 요약문:  easy and tasty way to make sticky rice \n",
            "예측 요약문:   great\n",
            "원문:  perfect high protein low fat snack tender like chew \n",
            "실제 요약문:  very tender good flavor \n",
            "예측 요약문:   great\n",
            "원문:  enjoy blend much home good strong coffee taste like works well ways without creamer \n",
            "실제 요약문:  real coffee \n",
            "예측 요약문:   great coffee\n",
            "원문:  disgusted brown water created cafe escapes dark chocolate cocoa thrilled find dark chocolate cocoa cups delicious \n",
            "실제 요약문:  so much better than cafe \n",
            "예측 요약문:   great\n",
            "원문:  flavorful excellent salt also great price item arrived time pleased bought two gave one brother sister law gift us tasted product san francisco farmer market building impressed great kitchen enjoy \n",
            "실제 요약문:  spice lab white salt \n",
            "예측 요약문:   great product\n",
            "원문:  nothing like organic pumpkin ever purchased dry hard comes actually stools dogs negative way never buy pay good stuff \n",
            "실제 요약문:  comes out of the can like \n",
            "예측 요약문:   great product\n",
            "원문:  dogs eating canidae years always done well food currently three dogs issues new say black lab mix even brighter coat love came bag three dogs go lot dog food definitely recommend food \n",
            "실제 요약문:  my dogs love canidae \n",
            "예측 요약문:   my dog loves these\n",
            "원문:  daughter loves baby food actually grab pouch feeding fast enough wanted see could buy bulk shocked prices amazon selling went target found anywhere pouch way cheaper sure hope amazon something amazing baby food wonderful variety products intend keep feeding daughter love organic easy take fiber flavors delicious \n",
            "실제 요약문:  wonderful product way overpriced here \n",
            "예측 요약문:   great\n",
            "원문:  purchased decaf english breakfast tasted good ones \n",
            "실제 요약문:  decaf is \n",
            "예측 요약문:   great\n",
            "원문:  bought exact product supermarket third price thought getting could get store family love flavor cost shipping ordering \n",
            "실제 요약문:  too much \n",
            "예측 요약문:   great product\n",
            "원문:  bought candy buffet wedding packaging pretty poor basically free box shrink wrap around box sugar packaging worry candy going stale slices also smaller would typically find necessarily bad word wise product good flavor nice texture bit firmer fruit slices tried \n",
            "실제 요약문:  smaller than expected but still good \n",
            "예측 요약문:   great product\n",
            "원문:  star review said received one ounce size box despite product features section stating specifically product pack two ounce however complaining amazon customer service refund half purchase price case star advertised better deal recommend frosted mini wheats bite size cereal ounce boxes better price per ounce even received bags advertised \n",
            "실제 요약문:  not as advertised \n",
            "예측 요약문:   great product\n",
            "원문:  good product pricing per case cannot beat would buy product seller \n",
            "실제 요약문:  excellent purchase \n",
            "예측 요약문:   great product\n",
            "원문:  tried multiple types chews company older dog go gusto three tried mini middle choice like design raw hide treat center something work could use natural ingredients inside starting real peanut butter flavoring \n",
            "실제 요약문:  my dog is getting picky \n",
            "예측 요약문:   great product\n",
            "원문:  cannot get month old eat dinner type baby food thought would different baby like good sure going packs \n",
            "실제 요약문:  baby does not like it \n",
            "예측 요약문:   great product\n",
            "원문:  nothing like real maple syrup grade highest quality syrup definately order product price good quality \n",
            "실제 요약문:  yum \n",
            "예측 요약문:   great product\n",
            "원문:  one best spices ever used great everything found originally whole foods used amazon \n",
            "실제 요약문:  seasoning \n",
            "예측 요약문:   great product\n",
            "원문:  buying coffee way saves money everyone family likes coffee medium blend excellent flavor \n",
            "실제 요약문:  great coffee \n",
            "예측 요약문:   great coffee\n",
            "원문:  local tj used carry costco miles away seems far travel bag chips finally subscribe save get regular basis like chips much good texture flavor hold dip well tried salt cheese flavors plain still favorite \n",
            "실제 요약문:  great chip \n",
            "예측 요약문:   great product\n",
            "원문:  golden bowl fortune cookies vanilla flavor count could believe great deal nearly good true price crazy good product delivered beautifully cookies taste great entire order two boxes seven hundred cookies ten broken order deal cannot beat \n",
            "실제 요약문:  great deal great taste \n",
            "예측 요약문:   great product\n",
            "원문:  sometimes want something hot breakfast want cook anything oatmeal pack great favorite flavors recommend milk water weak \n",
            "실제 요약문:  good \n",
            "예측 요약문:   great\n",
            "원문:  searching everywhere locally putting elated find amazon pudding mother made chocolate pies tradition continues thank much amazon \n",
            "실제 요약문:  pudding \n",
            "예측 요약문:   great product\n",
            "원문:  husband uses maple syrup gallon loves stuff said syrup much better buying tasted yet likes sure \n",
            "실제 요약문:  good syrup \n",
            "예측 요약문:   great\n",
            "원문:  use quite lot anise seed baking biscotti especially also cookies meat dishes little jars grocery store expensive checked internet spice companies good prices ridiculous shipping costs amazon com rescue anise seed frontier excellent quality potent aromatic packaged perfectly great price definitely order \n",
            "실제 요약문:  best seed in bulk \n",
            "예측 요약문:   great product\n",
            "원문:  fragrant could smell front step arrived bonus sample rose buds included shipment well information \n",
            "실제 요약문:  so much \n",
            "예측 요약문:   great product\n",
            "원문:  fruit chips healthy broken pieces inside bag even though packaging good costs much amount chips recommend \n",
            "실제 요약문:  all broken in pieces expensive \n",
            "예측 요약문:   great\n",
            "원문:  love spicy chocolate perfect anytime best way make heat milk stove add chocolate warming also add whipped cream cup sprinkle chili powder top love curl relax warm cup \n",
            "실제 요약문:  my \n",
            "예측 요약문:   great\n",
            "원문:  question going big bulky lb dogs want order worried uncomfortable \n",
            "실제 요약문:  for small dogs \n",
            "예측 요약문:   great product\n",
            "원문:  bought good reviews think reviews came employees thing color chestnuts plus wet package taste texture way order packs returnable yet cannot even finish first pack would really suggest either get chestnuts fresh roast without like roasting enjoying years terribly disappointed \n",
            "실제 요약문:  awful awful awful \n",
            "예측 요약문:   great\n",
            "원문:  large puppies whole foods cause choking also food caused diarhea puppies \n",
            "실제 요약문:  would not buy it again \n",
            "예측 요약문:   great product\n",
            "원문:  tastes good little sweet side may everyone \n",
            "실제 요약문:  sweet but tasty \n",
            "예측 요약문:   good\n",
            "원문:  nuts excellent fresh good taste extremely well packaged would recommend anyone enjoys good mixed nuts anytime year \n",
            "실제 요약문:  mixed nuts \n",
            "예측 요약문:   great\n"
          ]
        }
      ]
    },
    {
      "cell_type": "code",
      "metadata": {
        "id": "P6uyEZx-wgqM"
      },
      "source": [
        ""
      ],
      "execution_count": null,
      "outputs": []
    }
  ]
}